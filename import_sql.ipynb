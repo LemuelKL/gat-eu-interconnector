{
 "cells": [
  {
   "cell_type": "code",
   "execution_count": 1,
   "metadata": {},
   "outputs": [],
   "source": [
    "import os\n",
    "from sqlalchemy import create_engine\n",
    "import pandas as pd\n",
    "from dotenv import load_dotenv"
   ]
  },
  {
   "cell_type": "code",
   "execution_count": 2,
   "metadata": {},
   "outputs": [],
   "source": [
    "load_dotenv()\n",
    "engine = create_engine(os.getenv(\"SQLALCHEMY_DATABASE_URI\"))"
   ]
  },
  {
   "cell_type": "code",
   "execution_count": 35,
   "metadata": {},
   "outputs": [
    {
     "name": "stdout",
     "output_type": "stream",
     "text": [
      "Imported 15612725 rows into the database.\n"
     ]
    }
   ],
   "source": [
    "data_dir = \"ActualTotalLoad_6.1.A/\"\n",
    "files = os.listdir(data_dir)\n",
    "# import all csv files into the database\n",
    "n_rows = 0\n",
    "for file in files:\n",
    "    df = pd.read_csv(data_dir + file, sep=\"\\t\")\n",
    "    # df.to_sql(\"load\", engine, if_exists=\"append\", index=False)\n",
    "    n_rows += len(df)\n",
    "print(\"Imported\", n_rows, \"rows into the database.\")"
   ]
  },
  {
   "cell_type": "code",
   "execution_count": 40,
   "metadata": {},
   "outputs": [
    {
     "name": "stdout",
     "output_type": "stream",
     "text": [
      "Imported 144630558 rows into the database.\n"
     ]
    }
   ],
   "source": [
    "data_dir = \"AggregatedGenerationPerType_16.1.B_C/\"\n",
    "files = os.listdir(data_dir)\n",
    "# import all csv files into the database\n",
    "n_rows = 0\n",
    "for file in files:\n",
    "    df = pd.read_csv(data_dir + file, sep=\"\\t\")\n",
    "    # df.to_sql(\"generation\", engine, if_exists=\"append\", index=False)\n",
    "    n_rows += len(df)\n",
    "print(\"Imported\", n_rows, \"rows into the database.\")"
   ]
  },
  {
   "cell_type": "code",
   "execution_count": 39,
   "metadata": {},
   "outputs": [
    {
     "name": "stdout",
     "output_type": "stream",
     "text": [
      "Imported 4312473 rows into the database.\n"
     ]
    }
   ],
   "source": [
    "data_dir = \"DayAheadPrices_12.1.D/\"\n",
    "files = os.listdir(data_dir)\n",
    "# import all csv files into the database\n",
    "n_rows = 0\n",
    "for file in files:\n",
    "    df = pd.read_csv(data_dir + file, sep=\"\\t\")\n",
    "    # df.to_sql(\"dap\", engine, if_exists=\"append\", index=False)\n",
    "    n_rows += len(df)\n",
    "print(\"Imported\", n_rows, \"rows into the database.\")"
   ]
  },
  {
   "cell_type": "code",
   "execution_count": 38,
   "metadata": {},
   "outputs": [
    {
     "name": "stdout",
     "output_type": "stream",
     "text": [
      "Imported 50908676 rows into the database.\n"
     ]
    }
   ],
   "source": [
    "data_dir = \"PhysicalFlows_12.1.G/\"\n",
    "files = os.listdir(data_dir)\n",
    "# import all csv files into the database\n",
    "n_rows = 0\n",
    "for file in files:\n",
    "    df = pd.read_csv(data_dir + file, sep=\"\\t\")\n",
    "    # df.to_sql(\"flow\", engine, if_exists=\"append\", index=False)\n",
    "    n_rows += len(df)\n",
    "print(\"Imported\", n_rows, \"rows into the database.\")"
   ]
  }
 ],
 "metadata": {
  "kernelspec": {
   "display_name": "euics",
   "language": "python",
   "name": "python3"
  },
  "language_info": {
   "codemirror_mode": {
    "name": "ipython",
    "version": 3
   },
   "file_extension": ".py",
   "mimetype": "text/x-python",
   "name": "python",
   "nbconvert_exporter": "python",
   "pygments_lexer": "ipython3",
   "version": "3.11.5"
  }
 },
 "nbformat": 4,
 "nbformat_minor": 2
}
