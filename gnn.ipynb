{
 "cells": [
  {
   "cell_type": "code",
   "execution_count": 28,
   "metadata": {},
   "outputs": [],
   "source": [
    "from dataclasses import dataclass\n",
    "import os\n",
    "from dotenv import load_dotenv\n",
    "import pandas as pd\n",
    "import numpy as np\n",
    "from sqlalchemy import create_engine\n",
    "from currency_converter import CurrencyConverter\n",
    "from tqdm import tqdm\n",
    "from config import (\n",
    "    countries,\n",
    "    dap_bidding_zones,\n",
    "    interconnections,\n",
    "    interconnections_edge_matrix,\n",
    ")\n",
    "\n",
    "import math\n",
    "import torch\n",
    "from torch import nn, Tensor\n",
    "import torch.nn.functional as F\n",
    "from torch_geometric.nn import GATv2Conv\n",
    "from torch_geometric.data import Data\n",
    "from torch.nn import BatchNorm1d"
   ]
  },
  {
   "cell_type": "code",
   "execution_count": 29,
   "metadata": {},
   "outputs": [],
   "source": [
    "load_dotenv()\n",
    "engine = create_engine(os.getenv(\"SQLALCHEMY_DATABASE_URI\"))"
   ]
  },
  {
   "cell_type": "code",
   "execution_count": 30,
   "metadata": {},
   "outputs": [],
   "source": [
    "flow_df = pd.read_sql_table(\"flow_32\", engine)\n",
    "flow_df = flow_df.set_index(\"DateTime\")\n",
    "flow_df.fillna(0, inplace=True)"
   ]
  },
  {
   "cell_type": "code",
   "execution_count": 31,
   "metadata": {},
   "outputs": [],
   "source": [
    "c = CurrencyConverter(fallback_on_missing_rate=True)\n",
    "dap_df = pd.DataFrame()\n",
    "for country_id in countries.keys():\n",
    "    df = pd.read_sql_table(f\"{country_id}_dap\", engine)\n",
    "    if country_id == \"UK\":\n",
    "        # Do currency conversion GBP -> EUR according to day\n",
    "        df[\"DateTime\"] = pd.to_datetime(df[\"DateTime\"])\n",
    "        df[\"EUR\"] = df[\"DateTime\"].apply(lambda x: c.convert(1, \"GBP\", \"EUR\", x))\n",
    "        df.set_index(\"DateTime\", inplace=True)\n",
    "        df[\"0\"] = df[\"0\"] * df[\"EUR\"]\n",
    "        df.drop(columns=[\"EUR\"], inplace=True)\n",
    "        dap_df[country_id] = df\n",
    "    else:\n",
    "        dap_df[country_id] = df.set_index(\"DateTime\")\n",
    "dap_df.ffill(inplace=True)\n",
    "dap_df.fillna(0, inplace=True)"
   ]
  },
  {
   "cell_type": "code",
   "execution_count": 32,
   "metadata": {},
   "outputs": [],
   "source": [
    "load_df = pd.DataFrame()\n",
    "for country_id in countries.keys():\n",
    "    load_df[country_id] = pd.read_sql_table(f\"{country_id}_load\", engine).set_index(\n",
    "        \"DateTime\"\n",
    "    )\n",
    "load_df.ffill(inplace=True)\n",
    "# Fille NaN with mean of the column\n",
    "load_df.fillna(load_df.mean(), inplace=True)"
   ]
  },
  {
   "cell_type": "code",
   "execution_count": 33,
   "metadata": {},
   "outputs": [],
   "source": [
    "biomass_df = pd.DataFrame()\n",
    "fossil_brown_coal_df = pd.DataFrame()\n",
    "fossil_coal_derived_gas_df = pd.DataFrame()\n",
    "fossil_gas_df = pd.DataFrame()\n",
    "fossil_hard_coal_df = pd.DataFrame()\n",
    "fossil_oil_df = pd.DataFrame()\n",
    "hydro_pumped_storage_df = pd.DataFrame()\n",
    "hydro_run_of_river_and_poundage_df = pd.DataFrame()\n",
    "hydro_water_reservoir_df = pd.DataFrame()\n",
    "nuclear_df = pd.DataFrame()\n",
    "other_df = pd.DataFrame()\n",
    "other_renewable_df = pd.DataFrame()\n",
    "solar_df = pd.DataFrame()\n",
    "waste_df = pd.DataFrame()\n",
    "wind_offshore_df = pd.DataFrame()\n",
    "wind_onshore_df = pd.DataFrame()\n",
    "geothermal_df = pd.DataFrame()\n",
    "fossil_peat_df = pd.DataFrame()\n",
    "\n",
    "gen_types = [\n",
    "    \"Biomass\",\n",
    "    \"Fossil Brown coal/Lignite\",\n",
    "    \"Fossil Coal-derived gas\",\n",
    "    \"Fossil Gas\",\n",
    "    \"Fossil Hard coal\",\n",
    "    \"Fossil Oil\",\n",
    "    \"Hydro Pumped Storage\",\n",
    "    \"Hydro Run-of-river and poundage\",\n",
    "    \"Hydro Water Reservoir\",\n",
    "    \"Nuclear\",\n",
    "    \"Other\",\n",
    "    \"Other renewable\",\n",
    "    \"Solar\",\n",
    "    \"Waste\",\n",
    "    \"Wind Offshore\",\n",
    "    \"Wind Onshore\",\n",
    "    \"Geothermal\",\n",
    "    \"Fossil Peat\",\n",
    "]\n",
    "\n",
    "for country_id in countries.keys():\n",
    "    this_cty_gen_df = pd.read_sql_table(f\"{country_id}_gen\", engine).set_index(\n",
    "        \"DateTime\"\n",
    "    )\n",
    "    biomass_df[country_id] = this_cty_gen_df[\"Biomass\"]\n",
    "    fossil_brown_coal_df[country_id] = this_cty_gen_df[\"Fossil Brown coal/Lignite\"]\n",
    "    fossil_coal_derived_gas_df[country_id] = this_cty_gen_df[\"Fossil Coal-derived gas\"]\n",
    "    fossil_gas_df[country_id] = this_cty_gen_df[\"Fossil Gas\"]\n",
    "    fossil_hard_coal_df[country_id] = this_cty_gen_df[\"Fossil Hard coal\"]\n",
    "    fossil_oil_df[country_id] = this_cty_gen_df[\"Fossil Oil\"]\n",
    "    hydro_pumped_storage_df[country_id] = this_cty_gen_df[\"Hydro Pumped Storage\"]\n",
    "    hydro_run_of_river_and_poundage_df[country_id] = this_cty_gen_df[\n",
    "        \"Hydro Run-of-river and poundage\"\n",
    "    ]\n",
    "    hydro_water_reservoir_df[country_id] = this_cty_gen_df[\"Hydro Water Reservoir\"]\n",
    "    nuclear_df[country_id] = this_cty_gen_df[\"Nuclear\"]\n",
    "    other_df[country_id] = this_cty_gen_df[\"Other\"]\n",
    "    other_renewable_df[country_id] = this_cty_gen_df[\"Other renewable\"]\n",
    "    solar_df[country_id] = this_cty_gen_df[\"Solar\"]\n",
    "    waste_df[country_id] = this_cty_gen_df[\"Waste\"]\n",
    "    wind_offshore_df[country_id] = this_cty_gen_df[\"Wind Offshore\"]\n",
    "    wind_onshore_df[country_id] = this_cty_gen_df[\"Wind Onshore\"]\n",
    "    geothermal_df[country_id] = this_cty_gen_df[\"Geothermal\"]\n",
    "    fossil_peat_df[country_id] = this_cty_gen_df[\"Fossil Peat\"]\n",
    "\n",
    "biomass_df.fillna(0, inplace=True)\n",
    "fossil_brown_coal_df.fillna(0, inplace=True)\n",
    "fossil_coal_derived_gas_df.fillna(0, inplace=True)\n",
    "fossil_gas_df.fillna(0, inplace=True)\n",
    "fossil_hard_coal_df.fillna(0, inplace=True)\n",
    "fossil_oil_df.fillna(0, inplace=True)\n",
    "hydro_pumped_storage_df.fillna(0, inplace=True)\n",
    "hydro_run_of_river_and_poundage_df.fillna(0, inplace=True)\n",
    "hydro_water_reservoir_df.fillna(0, inplace=True)\n",
    "nuclear_df.fillna(0, inplace=True)\n",
    "other_df.fillna(0, inplace=True)\n",
    "other_renewable_df.fillna(0, inplace=True)\n",
    "solar_df.fillna(0, inplace=True)\n",
    "waste_df.fillna(0, inplace=True)\n",
    "wind_offshore_df.fillna(0, inplace=True)\n",
    "wind_onshore_df.fillna(0, inplace=True)\n",
    "geothermal_df.fillna(0, inplace=True)\n",
    "fossil_peat_df.fillna(0, inplace=True)"
   ]
  },
  {
   "cell_type": "code",
   "execution_count": 34,
   "metadata": {},
   "outputs": [
    {
     "name": "stdout",
     "output_type": "stream",
     "text": [
      "43729\n",
      "2015-01-04 23:00:00 2019-12-31 23:00:00\n"
     ]
    }
   ],
   "source": [
    "datetime_intersect = (\n",
    "    flow_df.index.intersection(dap_df.index)\n",
    "    .intersection(load_df.index)\n",
    "    .intersection(biomass_df.index)\n",
    "    .intersection(fossil_brown_coal_df.index)\n",
    "    .intersection(fossil_coal_derived_gas_df.index)\n",
    "    .intersection(fossil_gas_df.index)\n",
    "    .intersection(fossil_hard_coal_df.index)\n",
    "    .intersection(fossil_oil_df.index)\n",
    "    .intersection(hydro_pumped_storage_df.index)\n",
    "    .intersection(hydro_run_of_river_and_poundage_df.index)\n",
    "    .intersection(hydro_water_reservoir_df.index)\n",
    "    .intersection(nuclear_df.index)\n",
    "    .intersection(other_df.index)\n",
    "    .intersection(other_renewable_df.index)\n",
    "    .intersection(solar_df.index)\n",
    "    .intersection(waste_df.index)\n",
    "    .intersection(wind_offshore_df.index)\n",
    "    .intersection(wind_onshore_df.index)\n",
    "    .intersection(geothermal_df.index)\n",
    "    .intersection(fossil_peat_df.index)\n",
    ")\n",
    "print(len(datetime_intersect))\n",
    "print(min(datetime_intersect), max(datetime_intersect))\n",
    "# Check if datetime_intersect is monotonically increasing\n",
    "assert all(\n",
    "    datetime_intersect[i] < datetime_intersect[i + 1]\n",
    "    for i in range(len(datetime_intersect) - 1)\n",
    ")"
   ]
  },
  {
   "cell_type": "code",
   "execution_count": 35,
   "metadata": {},
   "outputs": [],
   "source": [
    "# Create temporal features based on datetime_intersect\n",
    "temporal_hour_df = pd.DataFrame(index=datetime_intersect)\n",
    "temporal_dow_df = pd.DataFrame(index=datetime_intersect)\n",
    "temporal_month_df = pd.DataFrame(index=datetime_intersect)\n",
    "temporal_doy_df = pd.DataFrame(index=datetime_intersect)\n",
    "for country_id in countries.keys():\n",
    "    temporal_hour_df[country_id] = datetime_intersect.hour\n",
    "    temporal_dow_df[country_id] = datetime_intersect.dayofweek\n",
    "    temporal_month_df[country_id] = datetime_intersect.month\n",
    "    temporal_doy_df[country_id] = datetime_intersect.dayofyear"
   ]
  },
  {
   "cell_type": "code",
   "execution_count": 36,
   "metadata": {},
   "outputs": [],
   "source": [
    "flow_df = flow_df.loc[datetime_intersect]\n",
    "dap_df = dap_df.loc[datetime_intersect]\n",
    "load_df = load_df.loc[datetime_intersect]\n",
    "biomass_df = biomass_df.loc[datetime_intersect]\n",
    "fossil_brown_coal_df = fossil_brown_coal_df.loc[datetime_intersect]\n",
    "fossil_coal_derived_gas_df = fossil_coal_derived_gas_df.loc[datetime_intersect]\n",
    "fossil_gas_df = fossil_gas_df.loc[datetime_intersect]\n",
    "fossil_hard_coal_df = fossil_hard_coal_df.loc[datetime_intersect]\n",
    "fossil_oil_df = fossil_oil_df.loc[datetime_intersect]\n",
    "hydro_pumped_storage_df = hydro_pumped_storage_df.loc[datetime_intersect]\n",
    "hydro_run_of_river_and_poundage_df = hydro_run_of_river_and_poundage_df.loc[\n",
    "    datetime_intersect\n",
    "]\n",
    "hydro_water_reservoir_df = hydro_water_reservoir_df.loc[datetime_intersect]\n",
    "nuclear_df = nuclear_df.loc[datetime_intersect]\n",
    "other_df = other_df.loc[datetime_intersect]\n",
    "other_renewable_df = other_renewable_df.loc[datetime_intersect]\n",
    "solar_df = solar_df.loc[datetime_intersect]\n",
    "waste_df = waste_df.loc[datetime_intersect]\n",
    "wind_offshore_df = wind_offshore_df.loc[datetime_intersect]\n",
    "wind_onshore_df = wind_onshore_df.loc[datetime_intersect]\n",
    "geothermal_df = geothermal_df.loc[datetime_intersect]\n",
    "fossil_peat_df = fossil_peat_df.loc[datetime_intersect]"
   ]
  },
  {
   "cell_type": "code",
   "execution_count": 37,
   "metadata": {},
   "outputs": [
    {
     "name": "stdout",
     "output_type": "stream",
     "text": [
      "(2, 32)\n",
      "(43729, 2, 32)\n"
     ]
    }
   ],
   "source": [
    "edges = np.array(interconnections_edge_matrix)\n",
    "print(edges.shape)\n",
    "# Map edge names to indices\n",
    "edge_names = np.unique(edges)\n",
    "edge_map = {edge: i for i, edge in enumerate(edge_names)}\n",
    "edge_indices = np.array([edge_map[edge] for edge in edges.flatten()]).reshape(\n",
    "    edges.shape\n",
    ")\n",
    "# Repeat edge indices for each datetime\n",
    "edge_indices = np.repeat(\n",
    "    edge_indices[np.newaxis, :, :],\n",
    "    len(datetime_intersect),\n",
    "    axis=0,\n",
    ")\n",
    "print(edge_indices.shape)\n",
    "n_edges = edges.shape[1]"
   ]
  },
  {
   "cell_type": "code",
   "execution_count": 38,
   "metadata": {},
   "outputs": [
    {
     "name": "stdout",
     "output_type": "stream",
     "text": [
      "(43729, 32, 1)\n",
      "(43729, 32, 1)\n"
     ]
    }
   ],
   "source": [
    "# Edge labels (flow) of shape (n_datetime, n_edges, 1)\n",
    "edge_labels = np.array(flow_df)\n",
    "# print(edge_labels.shape)\n",
    "edge_labels = np.reshape(\n",
    "    edge_labels, (len(datetime_intersect), edge_labels.shape[1], 1)\n",
    ")\n",
    "print(edge_labels.shape)\n",
    "edge_attributes = np.copy(edge_labels)\n",
    "print(edge_attributes.shape)"
   ]
  },
  {
   "cell_type": "code",
   "execution_count": 39,
   "metadata": {},
   "outputs": [
    {
     "name": "stdout",
     "output_type": "stream",
     "text": [
      "(43729, 10, 24)\n",
      "[3.656000e+01 1.003953e+04 2.311300e+02 0.000000e+00 0.000000e+00\n",
      " 1.791710e+03 4.368500e+02 0.000000e+00 0.000000e+00 3.596000e+01\n",
      " 0.000000e+00 3.904350e+03 6.016400e+02 0.000000e+00 0.000000e+00\n",
      " 2.690100e+02 4.937000e+01 2.415900e+02 0.000000e+00 0.000000e+00\n",
      " 2.300000e+01 6.000000e+00 1.000000e+00 4.000000e+00]\n"
     ]
    }
   ],
   "source": [
    "# Node features (dap, load) of shape (n_datetime, n_nodes, n_node_features)\n",
    "node_features = np.stack(\n",
    "    [\n",
    "        dap_df.to_numpy(),\n",
    "        load_df.to_numpy(),\n",
    "        biomass_df.to_numpy(),\n",
    "        fossil_brown_coal_df.to_numpy(),\n",
    "        fossil_coal_derived_gas_df.to_numpy(),\n",
    "        fossil_gas_df.to_numpy(),\n",
    "        fossil_hard_coal_df.to_numpy(),\n",
    "        fossil_oil_df.to_numpy(),\n",
    "        hydro_pumped_storage_df.to_numpy(),\n",
    "        hydro_run_of_river_and_poundage_df.to_numpy(),\n",
    "        hydro_water_reservoir_df.to_numpy(),\n",
    "        nuclear_df.to_numpy(),\n",
    "        other_df.to_numpy(),\n",
    "        other_renewable_df.to_numpy(),\n",
    "        solar_df.to_numpy(),\n",
    "        waste_df.to_numpy(),\n",
    "        wind_offshore_df.to_numpy(),\n",
    "        wind_onshore_df.to_numpy(),\n",
    "        geothermal_df.to_numpy(),\n",
    "        fossil_peat_df.to_numpy(),\n",
    "        temporal_hour_df.to_numpy(),\n",
    "        temporal_dow_df.to_numpy(),\n",
    "        temporal_month_df.to_numpy(),\n",
    "        temporal_doy_df.to_numpy(),\n",
    "    ],\n",
    "    axis=-1,\n",
    ")\n",
    "print(node_features.shape)\n",
    "print(node_features[0, 0, :])\n",
    "# print(node_features)\n",
    "n_nodes = node_features.shape[1]"
   ]
  },
  {
   "cell_type": "code",
   "execution_count": 40,
   "metadata": {},
   "outputs": [],
   "source": [
    "assert (\n",
    "    len(datetime_intersect)\n",
    "    == edge_indices.shape[0]\n",
    "    == edge_labels.shape[0]\n",
    "    == edge_attributes.shape[0]\n",
    "    == node_features.shape[0]\n",
    ")"
   ]
  },
  {
   "cell_type": "code",
   "execution_count": 41,
   "metadata": {},
   "outputs": [
    {
     "name": "stdout",
     "output_type": "stream",
     "text": [
      "2015-01-04 23:00:00\n",
      "[[0 0 0 0 3 3 3 4 4 4 4 2 2 2 2 2 5 6 6 7 7 7 7 7 8 8 1 1 9 9 9 9]\n",
      " [4 6 7 9 2 7 8 0 2 1 9 3 4 6 7 1 9 0 2 0 3 2 8 9 3 7 4 2 0 4 5 7]]\n",
      "[[   0.  ]\n",
      " [   0.  ]\n",
      " [   0.  ]\n",
      " [   0.  ]\n",
      " [   0.  ]\n",
      " [   0.  ]\n",
      " [1315.79]\n",
      " [  52.  ]\n",
      " [ 617.  ]\n",
      " [ 279.  ]\n",
      " [1433.  ]\n",
      " [   0.  ]\n",
      " [   0.  ]\n",
      " [   0.  ]\n",
      " [3205.  ]\n",
      " [   0.  ]\n",
      " [   0.  ]\n",
      " [   0.  ]\n",
      " [   0.  ]\n",
      " [2106.86]\n",
      " [   0.  ]\n",
      " [   0.  ]\n",
      " [   0.  ]\n",
      " [ 964.  ]\n",
      " [   0.  ]\n",
      " [ 704.  ]\n",
      " [   0.  ]\n",
      " [   0.  ]\n",
      " [   0.  ]\n",
      " [   0.  ]\n",
      " [ 169.19]\n",
      " [   0.  ]]\n",
      "[[   0.  ]\n",
      " [   0.  ]\n",
      " [   0.  ]\n",
      " [   0.  ]\n",
      " [   0.  ]\n",
      " [   0.  ]\n",
      " [1315.79]\n",
      " [  52.  ]\n",
      " [ 617.  ]\n",
      " [ 279.  ]\n",
      " [1433.  ]\n",
      " [   0.  ]\n",
      " [   0.  ]\n",
      " [   0.  ]\n",
      " [3205.  ]\n",
      " [   0.  ]\n",
      " [   0.  ]\n",
      " [   0.  ]\n",
      " [   0.  ]\n",
      " [2106.86]\n",
      " [   0.  ]\n",
      " [   0.  ]\n",
      " [   0.  ]\n",
      " [ 964.  ]\n",
      " [   0.  ]\n",
      " [ 704.  ]\n",
      " [   0.  ]\n",
      " [   0.  ]\n",
      " [   0.  ]\n",
      " [   0.  ]\n",
      " [ 169.19]\n",
      " [   0.  ]]\n",
      "[[3.65600000e+01 1.00395300e+04 2.31130000e+02 0.00000000e+00\n",
      "  0.00000000e+00 1.79171000e+03 4.36850000e+02 0.00000000e+00\n",
      "  0.00000000e+00 3.59600000e+01 0.00000000e+00 3.90435000e+03\n",
      "  6.01640000e+02 0.00000000e+00 0.00000000e+00 2.69010000e+02\n",
      "  4.93700000e+01 2.41590000e+02 0.00000000e+00 0.00000000e+00\n",
      "  2.30000000e+01 6.00000000e+00 1.00000000e+00 4.00000000e+00]\n",
      " [2.86250000e+01 3.19045000e+03 6.92000000e+01 0.00000000e+00\n",
      "  0.00000000e+00 4.92090000e+02 1.42000000e+03 2.12100000e+01\n",
      "  0.00000000e+00 0.00000000e+00 0.00000000e+00 0.00000000e+00\n",
      "  0.00000000e+00 0.00000000e+00 0.00000000e+00 1.75330000e+02\n",
      "  7.71120000e+02 1.57288000e+03 0.00000000e+00 0.00000000e+00\n",
      "  2.30000000e+01 6.00000000e+00 1.00000000e+00 4.00000000e+00]\n",
      " [3.65600000e+01 6.26100000e+04 1.97000000e+02 0.00000000e+00\n",
      "  0.00000000e+00 2.43500000e+03 1.48400000e+03 2.61000000e+02\n",
      "  1.30400000e+03 5.27100000e+03 8.19000000e+02 5.64990000e+04\n",
      "  0.00000000e+00 0.00000000e+00 0.00000000e+00 2.78000000e+02\n",
      "  0.00000000e+00 1.05700000e+03 0.00000000e+00 0.00000000e+00\n",
      "  2.30000000e+01 6.00000000e+00 1.00000000e+00 4.00000000e+00]\n",
      " [2.23400000e+01 4.66678700e+04 3.95028750e+03 1.60414725e+04\n",
      "  0.00000000e+00 9.87150000e+02 2.20156250e+03 1.91917500e+02\n",
      "  6.73325000e+01 1.65707250e+03 2.30700000e+01 1.09347475e+04\n",
      "  3.31460000e+02 1.21310000e+02 0.00000000e+00 5.23300000e+02\n",
      "  4.78020000e+02 1.27166450e+04 1.07125000e+01 0.00000000e+00\n",
      "  2.30000000e+01 6.00000000e+00 1.00000000e+00 4.00000000e+00]\n",
      " [4.91400000e+01 2.90401500e+03 0.00000000e+00 0.00000000e+00\n",
      "  0.00000000e+00 7.20695000e+02 4.78655000e+02 6.00000000e-02\n",
      "  1.52050000e+01 1.54355000e+02 0.00000000e+00 0.00000000e+00\n",
      "  0.00000000e+00 0.00000000e+00 0.00000000e+00 0.00000000e+00\n",
      "  0.00000000e+00 7.73090000e+02 0.00000000e+00 3.32240000e+02\n",
      "  2.30000000e+01 6.00000000e+00 1.00000000e+00 4.00000000e+00]\n",
      " [2.23400000e+01 4.37000000e+02 5.63500000e+00 0.00000000e+00\n",
      "  0.00000000e+00 4.79500000e+00 0.00000000e+00 0.00000000e+00\n",
      "  0.00000000e+00 8.68500000e+00 0.00000000e+00 0.00000000e+00\n",
      "  0.00000000e+00 0.00000000e+00 0.00000000e+00 1.20625000e+01\n",
      "  0.00000000e+00 1.57000000e+00 0.00000000e+00 0.00000000e+00\n",
      "  2.30000000e+01 6.00000000e+00 1.00000000e+00 4.00000000e+00]\n",
      " [3.65600000e+01 1.14760075e+04 0.00000000e+00 0.00000000e+00\n",
      "  0.00000000e+00 1.66168500e+03 1.17240000e+03 0.00000000e+00\n",
      "  0.00000000e+00 0.00000000e+00 0.00000000e+00 4.88195000e+02\n",
      "  5.09762000e+03 0.00000000e+00 0.00000000e+00 1.20547500e+02\n",
      "  5.32725000e+01 1.28867500e+02 0.00000000e+00 0.00000000e+00\n",
      "  2.30000000e+01 6.00000000e+00 1.00000000e+00 4.00000000e+00]\n",
      " [2.85380000e+01 1.67024600e+04 0.00000000e+00 0.00000000e+00\n",
      "  0.00000000e+00 3.72610000e+02 0.00000000e+00 0.00000000e+00\n",
      "  0.00000000e+00 1.18922000e+03 1.49508300e+04 0.00000000e+00\n",
      "  1.64000000e+01 0.00000000e+00 0.00000000e+00 0.00000000e+00\n",
      "  0.00000000e+00 2.73350000e+02 0.00000000e+00 0.00000000e+00\n",
      "  2.30000000e+01 6.00000000e+00 1.00000000e+00 4.00000000e+00]\n",
      " [3.78000000e+01 7.01962000e+03 0.00000000e+00 0.00000000e+00\n",
      "  0.00000000e+00 0.00000000e+00 0.00000000e+00 0.00000000e+00\n",
      "  0.00000000e+00 0.00000000e+00 0.00000000e+00 0.00000000e+00\n",
      "  0.00000000e+00 0.00000000e+00 4.00000000e-02 0.00000000e+00\n",
      "  0.00000000e+00 8.60000000e-01 0.00000000e+00 0.00000000e+00\n",
      "  2.30000000e+01 6.00000000e+00 1.00000000e+00 4.00000000e+00]\n",
      " [5.48222052e+01 2.88430000e+04 0.00000000e+00 0.00000000e+00\n",
      "  0.00000000e+00 0.00000000e+00 0.00000000e+00 0.00000000e+00\n",
      "  0.00000000e+00 0.00000000e+00 0.00000000e+00 0.00000000e+00\n",
      "  0.00000000e+00 0.00000000e+00 0.00000000e+00 0.00000000e+00\n",
      "  1.34050000e+01 3.67270000e+02 0.00000000e+00 0.00000000e+00\n",
      "  2.30000000e+01 6.00000000e+00 1.00000000e+00 4.00000000e+00]]\n"
     ]
    }
   ],
   "source": [
    "# Print a snapshot of the graph data\n",
    "idx = 0\n",
    "print(datetime_intersect[idx])\n",
    "print(edge_indices[idx])\n",
    "print(edge_labels[idx])\n",
    "print(edge_attributes[idx])\n",
    "print(node_features[idx])"
   ]
  },
  {
   "cell_type": "code",
   "execution_count": 42,
   "metadata": {},
   "outputs": [],
   "source": [
    "# https://pytorch-geometric.readthedocs.io/en/latest/generated/torch_geometric.nn.conv.GATv2Conv.html\n",
    "class GNNEncoder(nn.Module):\n",
    "    def __init__(\n",
    "        self, hidden_channels, num_heads_GAT, dropout_p_GAT, edge_dim_GAT, momentum_GAT\n",
    "    ):\n",
    "        super().__init__()\n",
    "        self.gat = GATv2Conv(\n",
    "            (-1, -1),\n",
    "            hidden_channels,\n",
    "            add_self_loops=False,\n",
    "            heads=num_heads_GAT,\n",
    "            edge_dim=edge_dim_GAT,\n",
    "        )\n",
    "        self.norm = BatchNorm1d(\n",
    "            hidden_channels,\n",
    "            momentum=momentum_GAT,\n",
    "            affine=False,\n",
    "            track_running_stats=False,\n",
    "        )\n",
    "        self.dropout = nn.Dropout(dropout_p_GAT)\n",
    "\n",
    "    def forward(self, x, edge_indices, edge_attrs):\n",
    "        x = self.dropout(x)\n",
    "        x = self.norm(x)\n",
    "        nodes_embedds = self.gat(x, edge_indices, edge_attrs)\n",
    "        nodes_embedds = F.leaky_relu(nodes_embedds, negative_slope=0.1)\n",
    "        return nodes_embedds"
   ]
  },
  {
   "cell_type": "code",
   "execution_count": 43,
   "metadata": {},
   "outputs": [],
   "source": [
    "class PositionalEncoding(nn.Module):\n",
    "    def __init__(self, d_model: int, dropout: float = 0.1, max_len: int = 5000):\n",
    "        super().__init__()\n",
    "        self.dropout = nn.Dropout(p=dropout)\n",
    "\n",
    "        position = torch.arange(max_len).unsqueeze(1)\n",
    "        div_term = torch.exp(\n",
    "            torch.arange(0, d_model, 2) * (-math.log(10000.0) / d_model)\n",
    "        )\n",
    "        pe = torch.zeros(max_len, 1, d_model)\n",
    "        pe[:, 0, 0::2] = torch.sin(position * div_term)\n",
    "        pe[:, 0, 1::2] = torch.cos(position * div_term)\n",
    "        self.register_buffer(\"pe\", pe)\n",
    "\n",
    "    def forward(self, x: Tensor) -> Tensor:\n",
    "        x = x + self.pe[: x.size(0)]\n",
    "        return self.dropout(x)"
   ]
  },
  {
   "cell_type": "code",
   "execution_count": 44,
   "metadata": {},
   "outputs": [],
   "source": [
    "class Transformer(nn.Module):\n",
    "    def __init__(\n",
    "        self,\n",
    "        dim_model,\n",
    "        num_heads_TR,\n",
    "        num_encoder_layers_TR,\n",
    "        num_decoder_layers_TR,\n",
    "        dropout_p_TR,\n",
    "    ):\n",
    "        super().__init__()\n",
    "        self.pos_encoder = PositionalEncoding(dim_model)\n",
    "        self.transformer = nn.Transformer(\n",
    "            d_model=dim_model,\n",
    "            nhead=num_heads_TR,\n",
    "            num_decoder_layers=num_encoder_layers_TR,\n",
    "            num_encoder_layers=num_decoder_layers_TR,\n",
    "            dropout=dropout_p_TR,\n",
    "        )\n",
    "\n",
    "    def forward(self, src, trg):\n",
    "        src = self.pos_encoder(src)\n",
    "        trg = self.pos_encoder(trg)\n",
    "        temporal_node_embeddings = self.transformer(src, trg)\n",
    "        return temporal_node_embeddings"
   ]
  },
  {
   "cell_type": "code",
   "execution_count": 45,
   "metadata": {},
   "outputs": [],
   "source": [
    "class EdgeDecoder(nn.Module):\n",
    "    def __init__(self, hidden_channels, num_heads_GAT, num_edges, num_nodes):\n",
    "        super().__init__()\n",
    "        self.lin1 = nn.Linear(\n",
    "            num_nodes * hidden_channels * num_heads_GAT, hidden_channels\n",
    "        )\n",
    "        self.lin2 = nn.Linear(hidden_channels, num_edges)\n",
    "\n",
    "    def forward(self, x):\n",
    "        # Flatten the tensor\n",
    "        x = torch.flatten(x)\n",
    "        x = self.lin1(x)\n",
    "        x = F.leaky_relu(x, negative_slope=0.1)\n",
    "        x = self.lin2(x)\n",
    "        return x.view(-1)"
   ]
  },
  {
   "cell_type": "code",
   "execution_count": 46,
   "metadata": {},
   "outputs": [],
   "source": [
    "class Model(nn.Module):\n",
    "    def __init__(\n",
    "        self,\n",
    "        hidden_channels,\n",
    "        num_heads_GAT,\n",
    "        dropout_p_GAT,\n",
    "        edge_dim_GAT,\n",
    "        momentum_GAT,\n",
    "        dim_model,\n",
    "        num_heads_TR,\n",
    "        num_encoder_layers_TR,\n",
    "        num_decoder_layers_TR,\n",
    "        dropout_p_TR,\n",
    "        n_edges,\n",
    "        n_nodes,\n",
    "    ):\n",
    "        super().__init__()\n",
    "        self.encoder = GNNEncoder(\n",
    "            hidden_channels, num_heads_GAT, dropout_p_GAT, edge_dim_GAT, momentum_GAT\n",
    "        )  # node embedding with GAT\n",
    "        self.transformer = Transformer(\n",
    "            dim_model,\n",
    "            num_heads_TR,\n",
    "            num_encoder_layers_TR,\n",
    "            num_decoder_layers_TR,\n",
    "            dropout_p_TR,\n",
    "        )\n",
    "        self.decoder = EdgeDecoder(hidden_channels, num_heads_GAT, n_edges, n_nodes)\n",
    "\n",
    "    def forward(self, x, edge_indices, edge_attrs):\n",
    "        src_embedds = []\n",
    "        for i in range(x.shape[0]):\n",
    "            src_embedds.append(self.encoder(x[i], edge_indices[i], edge_attrs[i]))\n",
    "        src_embedds = torch.stack(src_embedds)\n",
    "        trg_embedds = src_embedds[-1].unsqueeze(0)\n",
    "        temporal_node_embedds = self.transformer(src_embedds, trg_embedds)\n",
    "        temporal_node_embedds = temporal_node_embedds.squeeze(0)\n",
    "        edge_predictions = self.decoder(temporal_node_embedds)\n",
    "        return edge_predictions"
   ]
  },
  {
   "cell_type": "code",
   "execution_count": 47,
   "metadata": {},
   "outputs": [],
   "source": [
    "def train(model, data, window_size, num_epochs, lr):\n",
    "    model = model.to(device)\n",
    "    data = [d.to(device) for d in data]\n",
    "    model.train()\n",
    "    optimizer = torch.optim.Adam(model.parameters(), lr=lr)\n",
    "    criterion = nn.MSELoss()\n",
    "    for epoch in range(num_epochs):\n",
    "        loss_sum = None\n",
    "        for m in tqdm(range(len(data) - window_size)):\n",
    "            # for m in range(len(data) - window_size):\n",
    "            optimizer.zero_grad()\n",
    "            x = torch.stack([data[m + i].x for i in range(window_size)])\n",
    "            edge_indices = torch.stack(\n",
    "                [data[m + i].edge_index for i in range(window_size)]\n",
    "            )\n",
    "            edge_attrs = torch.stack(\n",
    "                [data[m + i].edge_attr for i in range(window_size)]\n",
    "            )\n",
    "            y = data[m + window_size].y\n",
    "            y_pred = model(x, edge_indices, edge_attrs)\n",
    "            y_pred = y_pred.view((-1, 1))\n",
    "            loss = criterion(y_pred, y)\n",
    "            # print(f\"Epoch {epoch}, Loss {loss.item()}\")\n",
    "            if loss_sum is None:\n",
    "                loss_sum = loss\n",
    "            else:\n",
    "                loss_sum += loss\n",
    "            # if m % 24 * 7 == 0 or m == len(data) - window_size - 1:\n",
    "            if m == len(data) - window_size - 1 or m % 24 == 0:\n",
    "                diff = y.squeeze() - y_pred\n",
    "                diff = diff.detach().cpu().numpy()\n",
    "                print(f\"Epoch {epoch}, m={m}\", diff.mean())\n",
    "                loss_sum.backward()\n",
    "                optimizer.step()\n",
    "                optimizer.zero_grad()\n",
    "                loss_sum = None\n",
    "\n",
    "    return model"
   ]
  },
  {
   "cell_type": "code",
   "execution_count": 48,
   "metadata": {},
   "outputs": [
    {
     "name": "stdout",
     "output_type": "stream",
     "text": [
      "(43729, 10, 24)\n",
      "(43729, 2, 32)\n",
      "(43729, 32, 1)\n",
      "(43729, 32, 1)\n",
      "43729\n"
     ]
    }
   ],
   "source": [
    "print(node_features.shape)\n",
    "print(edge_indices.shape)\n",
    "print(edge_attributes.shape)\n",
    "print(edge_labels.shape)\n",
    "snapshots = []\n",
    "for i in range(len(datetime_intersect)):\n",
    "    x = torch.tensor(node_features[i], dtype=torch.float)\n",
    "    edge_index = torch.tensor(edge_indices[i], dtype=torch.long)\n",
    "    edge_attr = torch.tensor(edge_attributes[i], dtype=torch.float)\n",
    "    y = torch.tensor(edge_labels[i], dtype=torch.float)\n",
    "    data = Data(x=x, edge_index=edge_index, edge_attr=edge_attr, y=y)\n",
    "    snapshots.append(data)\n",
    "print(len(snapshots))"
   ]
  },
  {
   "cell_type": "code",
   "execution_count": 49,
   "metadata": {},
   "outputs": [
    {
     "name": "stdout",
     "output_type": "stream",
     "text": [
      "Epoch 20, m=1104 67.21589\n"
     ]
    },
    {
     "name": "stderr",
     "output_type": "stream",
     "text": [
      " 13%|█▎        | 1126/8736 [00:55<04:27, 28.45it/s]"
     ]
    },
    {
     "name": "stdout",
     "output_type": "stream",
     "text": [
      "Epoch 20, m=1128 -10.9713745\n"
     ]
    },
    {
     "name": "stderr",
     "output_type": "stream",
     "text": [
      " 13%|█▎        | 1149/8736 [00:57<04:41, 26.96it/s]"
     ]
    },
    {
     "name": "stdout",
     "output_type": "stream",
     "text": [
      "Epoch 20, m=1152 46.145836\n"
     ]
    },
    {
     "name": "stderr",
     "output_type": "stream",
     "text": [
      " 13%|█▎        | 1173/8736 [00:58<04:23, 28.69it/s]"
     ]
    },
    {
     "name": "stdout",
     "output_type": "stream",
     "text": [
      "Epoch 20, m=1176 32.233856\n"
     ]
    },
    {
     "name": "stderr",
     "output_type": "stream",
     "text": [
      " 14%|█▎        | 1197/8736 [00:59<04:24, 28.55it/s]"
     ]
    },
    {
     "name": "stdout",
     "output_type": "stream",
     "text": [
      "Epoch 20, m=1200 -6.2782516\n"
     ]
    },
    {
     "name": "stderr",
     "output_type": "stream",
     "text": [
      " 14%|█▍        | 1220/8736 [01:00<04:30, 27.84it/s]"
     ]
    },
    {
     "name": "stdout",
     "output_type": "stream",
     "text": [
      "Epoch 20, m=1224 51.59768\n"
     ]
    },
    {
     "name": "stderr",
     "output_type": "stream",
     "text": [
      " 14%|█▍        | 1245/8736 [01:01<04:19, 28.86it/s]"
     ]
    },
    {
     "name": "stdout",
     "output_type": "stream",
     "text": [
      "Epoch 20, m=1248 15.333786\n"
     ]
    },
    {
     "name": "stderr",
     "output_type": "stream",
     "text": [
      " 14%|█▍        | 1248/8736 [01:02<06:15, 19.95it/s]\n"
     ]
    },
    {
     "ename": "KeyboardInterrupt",
     "evalue": "",
     "output_type": "error",
     "traceback": [
      "\u001b[1;31m---------------------------------------------------------------------------\u001b[0m",
      "\u001b[1;31mKeyboardInterrupt\u001b[0m                         Traceback (most recent call last)",
      "Cell \u001b[1;32mIn[49], line 16\u001b[0m\n\u001b[0;32m      1\u001b[0m device \u001b[38;5;241m=\u001b[39m torch\u001b[38;5;241m.\u001b[39mdevice(\u001b[38;5;124m\"\u001b[39m\u001b[38;5;124mcuda\u001b[39m\u001b[38;5;124m\"\u001b[39m \u001b[38;5;28;01mif\u001b[39;00m torch\u001b[38;5;241m.\u001b[39mcuda\u001b[38;5;241m.\u001b[39mis_available() \u001b[38;5;28;01melse\u001b[39;00m \u001b[38;5;124m\"\u001b[39m\u001b[38;5;124mcpu\u001b[39m\u001b[38;5;124m\"\u001b[39m)\n\u001b[0;32m      2\u001b[0m model \u001b[38;5;241m=\u001b[39m Model(\n\u001b[0;32m      3\u001b[0m     hidden_channels\u001b[38;5;241m=\u001b[39m\u001b[38;5;241m64\u001b[39m,\n\u001b[0;32m      4\u001b[0m     num_heads_GAT\u001b[38;5;241m=\u001b[39m\u001b[38;5;241m4\u001b[39m,\n\u001b[1;32m   (...)\u001b[0m\n\u001b[0;32m     14\u001b[0m     n_nodes\u001b[38;5;241m=\u001b[39mn_nodes,\n\u001b[0;32m     15\u001b[0m )\n\u001b[1;32m---> 16\u001b[0m \u001b[43mtrain\u001b[49m\u001b[43m(\u001b[49m\u001b[43mmodel\u001b[49m\u001b[43m,\u001b[49m\u001b[43m \u001b[49m\u001b[43msnapshots\u001b[49m\u001b[43m[\u001b[49m\u001b[43m:\u001b[49m\u001b[38;5;241;43m8760\u001b[39;49m\u001b[43m]\u001b[49m\u001b[43m,\u001b[49m\u001b[43m \u001b[49m\u001b[43mwindow_size\u001b[49m\u001b[38;5;241;43m=\u001b[39;49m\u001b[38;5;241;43m24\u001b[39;49m\u001b[43m,\u001b[49m\u001b[43m \u001b[49m\u001b[43mnum_epochs\u001b[49m\u001b[38;5;241;43m=\u001b[39;49m\u001b[38;5;241;43m10000\u001b[39;49m\u001b[43m,\u001b[49m\u001b[43m \u001b[49m\u001b[43mlr\u001b[49m\u001b[38;5;241;43m=\u001b[39;49m\u001b[38;5;241;43m0.001\u001b[39;49m\u001b[43m)\u001b[49m\n",
      "Cell \u001b[1;32mIn[47], line 33\u001b[0m, in \u001b[0;36mtrain\u001b[1;34m(model, data, window_size, num_epochs, lr)\u001b[0m\n\u001b[0;32m     31\u001b[0m diff \u001b[38;5;241m=\u001b[39m diff\u001b[38;5;241m.\u001b[39mdetach()\u001b[38;5;241m.\u001b[39mcpu()\u001b[38;5;241m.\u001b[39mnumpy()\n\u001b[0;32m     32\u001b[0m \u001b[38;5;28mprint\u001b[39m(\u001b[38;5;124mf\u001b[39m\u001b[38;5;124m\"\u001b[39m\u001b[38;5;124mEpoch \u001b[39m\u001b[38;5;132;01m{\u001b[39;00mepoch\u001b[38;5;132;01m}\u001b[39;00m\u001b[38;5;124m, m=\u001b[39m\u001b[38;5;132;01m{\u001b[39;00mm\u001b[38;5;132;01m}\u001b[39;00m\u001b[38;5;124m\"\u001b[39m, diff\u001b[38;5;241m.\u001b[39mmean())\n\u001b[1;32m---> 33\u001b[0m \u001b[43mloss_sum\u001b[49m\u001b[38;5;241;43m.\u001b[39;49m\u001b[43mbackward\u001b[49m\u001b[43m(\u001b[49m\u001b[43m)\u001b[49m\n\u001b[0;32m     34\u001b[0m optimizer\u001b[38;5;241m.\u001b[39mstep()\n\u001b[0;32m     35\u001b[0m optimizer\u001b[38;5;241m.\u001b[39mzero_grad()\n",
      "File \u001b[1;32mc:\\Users\\lemuelkl\\anaconda3\\envs\\euics\\Lib\\site-packages\\torch\\_tensor.py:492\u001b[0m, in \u001b[0;36mTensor.backward\u001b[1;34m(self, gradient, retain_graph, create_graph, inputs)\u001b[0m\n\u001b[0;32m    482\u001b[0m \u001b[38;5;28;01mif\u001b[39;00m has_torch_function_unary(\u001b[38;5;28mself\u001b[39m):\n\u001b[0;32m    483\u001b[0m     \u001b[38;5;28;01mreturn\u001b[39;00m handle_torch_function(\n\u001b[0;32m    484\u001b[0m         Tensor\u001b[38;5;241m.\u001b[39mbackward,\n\u001b[0;32m    485\u001b[0m         (\u001b[38;5;28mself\u001b[39m,),\n\u001b[1;32m   (...)\u001b[0m\n\u001b[0;32m    490\u001b[0m         inputs\u001b[38;5;241m=\u001b[39minputs,\n\u001b[0;32m    491\u001b[0m     )\n\u001b[1;32m--> 492\u001b[0m \u001b[43mtorch\u001b[49m\u001b[38;5;241;43m.\u001b[39;49m\u001b[43mautograd\u001b[49m\u001b[38;5;241;43m.\u001b[39;49m\u001b[43mbackward\u001b[49m\u001b[43m(\u001b[49m\n\u001b[0;32m    493\u001b[0m \u001b[43m    \u001b[49m\u001b[38;5;28;43mself\u001b[39;49m\u001b[43m,\u001b[49m\u001b[43m \u001b[49m\u001b[43mgradient\u001b[49m\u001b[43m,\u001b[49m\u001b[43m \u001b[49m\u001b[43mretain_graph\u001b[49m\u001b[43m,\u001b[49m\u001b[43m \u001b[49m\u001b[43mcreate_graph\u001b[49m\u001b[43m,\u001b[49m\u001b[43m \u001b[49m\u001b[43minputs\u001b[49m\u001b[38;5;241;43m=\u001b[39;49m\u001b[43minputs\u001b[49m\n\u001b[0;32m    494\u001b[0m \u001b[43m\u001b[49m\u001b[43m)\u001b[49m\n",
      "File \u001b[1;32mc:\\Users\\lemuelkl\\anaconda3\\envs\\euics\\Lib\\site-packages\\torch\\autograd\\__init__.py:251\u001b[0m, in \u001b[0;36mbackward\u001b[1;34m(tensors, grad_tensors, retain_graph, create_graph, grad_variables, inputs)\u001b[0m\n\u001b[0;32m    246\u001b[0m     retain_graph \u001b[38;5;241m=\u001b[39m create_graph\n\u001b[0;32m    248\u001b[0m \u001b[38;5;66;03m# The reason we repeat the same comment below is that\u001b[39;00m\n\u001b[0;32m    249\u001b[0m \u001b[38;5;66;03m# some Python versions print out the first line of a multi-line function\u001b[39;00m\n\u001b[0;32m    250\u001b[0m \u001b[38;5;66;03m# calls in the traceback and some print out the last line\u001b[39;00m\n\u001b[1;32m--> 251\u001b[0m \u001b[43mVariable\u001b[49m\u001b[38;5;241;43m.\u001b[39;49m\u001b[43m_execution_engine\u001b[49m\u001b[38;5;241;43m.\u001b[39;49m\u001b[43mrun_backward\u001b[49m\u001b[43m(\u001b[49m\u001b[43m  \u001b[49m\u001b[38;5;66;43;03m# Calls into the C++ engine to run the backward pass\u001b[39;49;00m\n\u001b[0;32m    252\u001b[0m \u001b[43m    \u001b[49m\u001b[43mtensors\u001b[49m\u001b[43m,\u001b[49m\n\u001b[0;32m    253\u001b[0m \u001b[43m    \u001b[49m\u001b[43mgrad_tensors_\u001b[49m\u001b[43m,\u001b[49m\n\u001b[0;32m    254\u001b[0m \u001b[43m    \u001b[49m\u001b[43mretain_graph\u001b[49m\u001b[43m,\u001b[49m\n\u001b[0;32m    255\u001b[0m \u001b[43m    \u001b[49m\u001b[43mcreate_graph\u001b[49m\u001b[43m,\u001b[49m\n\u001b[0;32m    256\u001b[0m \u001b[43m    \u001b[49m\u001b[43minputs\u001b[49m\u001b[43m,\u001b[49m\n\u001b[0;32m    257\u001b[0m \u001b[43m    \u001b[49m\u001b[43mallow_unreachable\u001b[49m\u001b[38;5;241;43m=\u001b[39;49m\u001b[38;5;28;43;01mTrue\u001b[39;49;00m\u001b[43m,\u001b[49m\n\u001b[0;32m    258\u001b[0m \u001b[43m    \u001b[49m\u001b[43maccumulate_grad\u001b[49m\u001b[38;5;241;43m=\u001b[39;49m\u001b[38;5;28;43;01mTrue\u001b[39;49;00m\u001b[43m,\u001b[49m\n\u001b[0;32m    259\u001b[0m \u001b[43m\u001b[49m\u001b[43m)\u001b[49m\n",
      "\u001b[1;31mKeyboardInterrupt\u001b[0m: "
     ]
    }
   ],
   "source": [
    "device = torch.device(\"cuda\" if torch.cuda.is_available() else \"cpu\")\n",
    "model = Model(\n",
    "    hidden_channels=64,\n",
    "    num_heads_GAT=4,\n",
    "    dropout_p_GAT=0.1,\n",
    "    edge_dim_GAT=1,  # edge attributes\n",
    "    momentum_GAT=0.1,\n",
    "    dim_model=64 * 4,  # hidden_channels * num_heads_GAT\n",
    "    num_heads_TR=4,\n",
    "    num_encoder_layers_TR=6,\n",
    "    num_decoder_layers_TR=6,\n",
    "    dropout_p_TR=0.1,\n",
    "    n_edges=n_edges,\n",
    "    n_nodes=n_nodes,\n",
    ")\n",
    "train(model, snapshots[:8760], window_size=24, num_epochs=10000, lr=0.001)"
   ]
  }
 ],
 "metadata": {
  "kernelspec": {
   "display_name": "euics",
   "language": "python",
   "name": "python3"
  },
  "language_info": {
   "codemirror_mode": {
    "name": "ipython",
    "version": 3
   },
   "file_extension": ".py",
   "mimetype": "text/x-python",
   "name": "python",
   "nbconvert_exporter": "python",
   "pygments_lexer": "ipython3",
   "version": "3.11.5"
  }
 },
 "nbformat": 4,
 "nbformat_minor": 2
}
