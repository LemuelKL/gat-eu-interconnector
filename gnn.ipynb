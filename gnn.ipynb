{
 "cells": [
  {
   "cell_type": "code",
   "execution_count": 32,
   "metadata": {},
   "outputs": [],
   "source": [
    "import os\n",
    "from dataclasses import dataclass\n",
    "import pandas as pd\n",
    "import numpy as np\n",
    "from sqlalchemy import create_engine\n",
    "from config import (\n",
    "    countries,\n",
    "    dap_bidding_zones,\n",
    "    interconnections,\n",
    "    interconnections_edge_matrix,\n",
    ")\n",
    "from tqdm import tqdm\n",
    "from dotenv import load_dotenv\n",
    "\n",
    "import math\n",
    "import torch\n",
    "from torch import nn, Tensor\n",
    "import torch.nn.functional as F\n",
    "from torch_geometric.nn import GATv2Conv\n",
    "from torch_geometric.data import Data\n",
    "from torch.nn import BatchNorm1d"
   ]
  },
  {
   "cell_type": "code",
   "execution_count": 33,
   "metadata": {},
   "outputs": [],
   "source": [
    "load_dotenv()\n",
    "engine = create_engine(os.getenv(\"SQLALCHEMY_DATABASE_URI\"))"
   ]
  },
  {
   "cell_type": "code",
   "execution_count": 34,
   "metadata": {},
   "outputs": [],
   "source": [
    "flow_df = pd.read_sql_table(\"flow_32\", engine)\n",
    "flow_df = flow_df.set_index(\"DateTime\")\n",
    "flow_df.fillna(0, inplace=True)"
   ]
  },
  {
   "cell_type": "code",
   "execution_count": 35,
   "metadata": {},
   "outputs": [],
   "source": [
    "dap_df = pd.DataFrame()\n",
    "for country_id in countries.keys():\n",
    "    dap_df[country_id] = pd.read_sql_table(f\"{country_id}_dap\", engine).set_index(\n",
    "        \"DateTime\"\n",
    "    )\n",
    "dap_df.index = pd.to_datetime(dap_df.index)\n",
    "dap_df.ffill(inplace=True)\n",
    "dap_df.fillna(0, inplace=True)"
   ]
  },
  {
   "cell_type": "code",
   "execution_count": 36,
   "metadata": {},
   "outputs": [],
   "source": [
    "load_df = pd.DataFrame()\n",
    "for country_id in countries.keys():\n",
    "    load_df[country_id] = pd.read_sql_table(f\"{country_id}_load\", engine).set_index(\n",
    "        \"DateTime\"\n",
    "    )\n",
    "load_df.ffill(inplace=True)\n",
    "# Fille NaN with mean of the column\n",
    "load_df.fillna(load_df.mean(), inplace=True)"
   ]
  },
  {
   "cell_type": "code",
   "execution_count": 37,
   "metadata": {},
   "outputs": [],
   "source": [
    "biomass_df = pd.DataFrame()\n",
    "fossil_brown_coal_df = pd.DataFrame()\n",
    "fossil_coal_derived_gas_df = pd.DataFrame()\n",
    "fossil_gas_df = pd.DataFrame()\n",
    "fossil_hard_coal_df = pd.DataFrame()\n",
    "fossil_oil_df = pd.DataFrame()\n",
    "hydro_pumped_storage_df = pd.DataFrame()\n",
    "hydro_run_of_river_and_poundage_df = pd.DataFrame()\n",
    "hydro_water_reservoir_df = pd.DataFrame()\n",
    "nuclear_df = pd.DataFrame()\n",
    "other_df = pd.DataFrame()\n",
    "other_renewable_df = pd.DataFrame()\n",
    "solar_df = pd.DataFrame()\n",
    "waste_df = pd.DataFrame()\n",
    "wind_offshore_df = pd.DataFrame()\n",
    "wind_onshore_df = pd.DataFrame()\n",
    "geothermal_df = pd.DataFrame()\n",
    "fossil_peat_df = pd.DataFrame()\n",
    "\n",
    "gen_types = [\n",
    "    \"Biomass\",\n",
    "    \"Fossil Brown coal/Lignite\",\n",
    "    \"Fossil Coal-derived gas\",\n",
    "    \"Fossil Gas\",\n",
    "    \"Fossil Hard coal\",\n",
    "    \"Fossil Oil\",\n",
    "    \"Hydro Pumped Storage\",\n",
    "    \"Hydro Run-of-river and poundage\",\n",
    "    \"Hydro Water Reservoir\",\n",
    "    \"Nuclear\",\n",
    "    \"Other\",\n",
    "    \"Other renewable\",\n",
    "    \"Solar\",\n",
    "    \"Waste\",\n",
    "    \"Wind Offshore\",\n",
    "    \"Wind Onshore\",\n",
    "    \"Geothermal\",\n",
    "    \"Fossil Peat\",\n",
    "]\n",
    "\n",
    "for country_id in countries.keys():\n",
    "    this_cty_gen_df = pd.read_sql_table(f\"{country_id}_gen\", engine).set_index(\n",
    "        \"DateTime\"\n",
    "    )\n",
    "    biomass_df[country_id] = this_cty_gen_df[\"Biomass\"]\n",
    "    fossil_brown_coal_df[country_id] = this_cty_gen_df[\"Fossil Brown coal/Lignite\"]\n",
    "    fossil_coal_derived_gas_df[country_id] = this_cty_gen_df[\"Fossil Coal-derived gas\"]\n",
    "    fossil_gas_df[country_id] = this_cty_gen_df[\"Fossil Gas\"]\n",
    "    fossil_hard_coal_df[country_id] = this_cty_gen_df[\"Fossil Hard coal\"]\n",
    "    fossil_oil_df[country_id] = this_cty_gen_df[\"Fossil Oil\"]\n",
    "    hydro_pumped_storage_df[country_id] = this_cty_gen_df[\"Hydro Pumped Storage\"]\n",
    "    hydro_run_of_river_and_poundage_df[country_id] = this_cty_gen_df[\n",
    "        \"Hydro Run-of-river and poundage\"\n",
    "    ]\n",
    "    hydro_water_reservoir_df[country_id] = this_cty_gen_df[\"Hydro Water Reservoir\"]\n",
    "    nuclear_df[country_id] = this_cty_gen_df[\"Nuclear\"]\n",
    "    other_df[country_id] = this_cty_gen_df[\"Other\"]\n",
    "    other_renewable_df[country_id] = this_cty_gen_df[\"Other renewable\"]\n",
    "    solar_df[country_id] = this_cty_gen_df[\"Solar\"]\n",
    "    waste_df[country_id] = this_cty_gen_df[\"Waste\"]\n",
    "    wind_offshore_df[country_id] = this_cty_gen_df[\"Wind Offshore\"]\n",
    "    wind_onshore_df[country_id] = this_cty_gen_df[\"Wind Onshore\"]\n",
    "    geothermal_df[country_id] = this_cty_gen_df[\"Geothermal\"]\n",
    "    fossil_peat_df[country_id] = this_cty_gen_df[\"Fossil Peat\"]\n",
    "\n",
    "biomass_df.fillna(0, inplace=True)\n",
    "fossil_brown_coal_df.fillna(0, inplace=True)\n",
    "fossil_coal_derived_gas_df.fillna(0, inplace=True)\n",
    "fossil_gas_df.fillna(0, inplace=True)\n",
    "fossil_hard_coal_df.fillna(0, inplace=True)\n",
    "fossil_oil_df.fillna(0, inplace=True)\n",
    "hydro_pumped_storage_df.fillna(0, inplace=True)\n",
    "hydro_run_of_river_and_poundage_df.fillna(0, inplace=True)\n",
    "hydro_water_reservoir_df.fillna(0, inplace=True)\n",
    "nuclear_df.fillna(0, inplace=True)\n",
    "other_df.fillna(0, inplace=True)\n",
    "other_renewable_df.fillna(0, inplace=True)\n",
    "solar_df.fillna(0, inplace=True)\n",
    "waste_df.fillna(0, inplace=True)\n",
    "wind_offshore_df.fillna(0, inplace=True)\n",
    "wind_onshore_df.fillna(0, inplace=True)\n",
    "geothermal_df.fillna(0, inplace=True)\n",
    "fossil_peat_df.fillna(0, inplace=True)"
   ]
  },
  {
   "cell_type": "code",
   "execution_count": 38,
   "metadata": {},
   "outputs": [
    {
     "name": "stdout",
     "output_type": "stream",
     "text": [
      "43729\n",
      "2015-01-04 23:00:00 2019-12-31 23:00:00\n"
     ]
    }
   ],
   "source": [
    "datetime_intersect = (\n",
    "    flow_df.index.intersection(dap_df.index)\n",
    "    .intersection(load_df.index)\n",
    "    .intersection(biomass_df.index)\n",
    "    .intersection(fossil_brown_coal_df.index)\n",
    "    .intersection(fossil_coal_derived_gas_df.index)\n",
    "    .intersection(fossil_gas_df.index)\n",
    "    .intersection(fossil_hard_coal_df.index)\n",
    "    .intersection(fossil_oil_df.index)\n",
    "    .intersection(hydro_pumped_storage_df.index)\n",
    "    .intersection(hydro_run_of_river_and_poundage_df.index)\n",
    "    .intersection(hydro_water_reservoir_df.index)\n",
    "    .intersection(nuclear_df.index)\n",
    "    .intersection(other_df.index)\n",
    "    .intersection(other_renewable_df.index)\n",
    "    .intersection(solar_df.index)\n",
    "    .intersection(waste_df.index)\n",
    "    .intersection(wind_offshore_df.index)\n",
    "    .intersection(wind_onshore_df.index)\n",
    "    .intersection(geothermal_df.index)\n",
    "    .intersection(fossil_peat_df.index)\n",
    ")\n",
    "print(len(datetime_intersect))\n",
    "print(min(datetime_intersect), max(datetime_intersect))\n",
    "# Check if datetime_intersect is monotonically increasing\n",
    "assert all(\n",
    "    datetime_intersect[i] < datetime_intersect[i + 1]\n",
    "    for i in range(len(datetime_intersect) - 1)\n",
    ")"
   ]
  },
  {
   "cell_type": "code",
   "execution_count": 39,
   "metadata": {},
   "outputs": [],
   "source": [
    "# Create temporal features based on datetime_intersect\n",
    "temporal_hour_df = pd.DataFrame(index=datetime_intersect)\n",
    "temporal_dow_df = pd.DataFrame(index=datetime_intersect)\n",
    "temporal_month_df = pd.DataFrame(index=datetime_intersect)\n",
    "temporal_doy_df = pd.DataFrame(index=datetime_intersect)\n",
    "for country_id in countries.keys():\n",
    "    temporal_hour_df[country_id] = datetime_intersect.hour\n",
    "    temporal_dow_df[country_id] = datetime_intersect.dayofweek\n",
    "    temporal_month_df[country_id] = datetime_intersect.month\n",
    "    temporal_doy_df[country_id] = datetime_intersect.dayofyear"
   ]
  },
  {
   "cell_type": "code",
   "execution_count": 40,
   "metadata": {},
   "outputs": [],
   "source": [
    "flow_df = flow_df.loc[datetime_intersect]\n",
    "dap_df = dap_df.loc[datetime_intersect]\n",
    "load_df = load_df.loc[datetime_intersect]\n",
    "biomass_df = biomass_df.loc[datetime_intersect]\n",
    "fossil_brown_coal_df = fossil_brown_coal_df.loc[datetime_intersect]\n",
    "fossil_coal_derived_gas_df = fossil_coal_derived_gas_df.loc[datetime_intersect]\n",
    "fossil_gas_df = fossil_gas_df.loc[datetime_intersect]\n",
    "fossil_hard_coal_df = fossil_hard_coal_df.loc[datetime_intersect]\n",
    "fossil_oil_df = fossil_oil_df.loc[datetime_intersect]\n",
    "hydro_pumped_storage_df = hydro_pumped_storage_df.loc[datetime_intersect]\n",
    "hydro_run_of_river_and_poundage_df = hydro_run_of_river_and_poundage_df.loc[\n",
    "    datetime_intersect\n",
    "]\n",
    "hydro_water_reservoir_df = hydro_water_reservoir_df.loc[datetime_intersect]\n",
    "nuclear_df = nuclear_df.loc[datetime_intersect]\n",
    "other_df = other_df.loc[datetime_intersect]\n",
    "other_renewable_df = other_renewable_df.loc[datetime_intersect]\n",
    "solar_df = solar_df.loc[datetime_intersect]\n",
    "waste_df = waste_df.loc[datetime_intersect]\n",
    "wind_offshore_df = wind_offshore_df.loc[datetime_intersect]\n",
    "wind_onshore_df = wind_onshore_df.loc[datetime_intersect]\n",
    "geothermal_df = geothermal_df.loc[datetime_intersect]\n",
    "fossil_peat_df = fossil_peat_df.loc[datetime_intersect]"
   ]
  },
  {
   "cell_type": "code",
   "execution_count": 41,
   "metadata": {},
   "outputs": [
    {
     "name": "stdout",
     "output_type": "stream",
     "text": [
      "(2, 32)\n",
      "(43729, 2, 32)\n"
     ]
    }
   ],
   "source": [
    "edges = np.array(interconnections_edge_matrix)\n",
    "print(edges.shape)\n",
    "# Map edge names to indices\n",
    "edge_names = np.unique(edges)\n",
    "edge_map = {edge: i for i, edge in enumerate(edge_names)}\n",
    "edge_indices = np.array([edge_map[edge] for edge in edges.flatten()]).reshape(\n",
    "    edges.shape\n",
    ")\n",
    "# Repeat edge indices for each datetime\n",
    "edge_indices = np.repeat(\n",
    "    edge_indices[np.newaxis, :, :],\n",
    "    len(datetime_intersect),\n",
    "    axis=0,\n",
    ")\n",
    "print(edge_indices.shape)\n",
    "n_edges = edges.shape[1]"
   ]
  },
  {
   "cell_type": "code",
   "execution_count": 42,
   "metadata": {},
   "outputs": [
    {
     "name": "stdout",
     "output_type": "stream",
     "text": [
      "(43729, 32, 1)\n",
      "(43729, 32, 1)\n"
     ]
    }
   ],
   "source": [
    "# Edge labels (flow) of shape (n_datetime, n_edges, 1)\n",
    "edge_labels = np.array(flow_df)\n",
    "# print(edge_labels.shape)\n",
    "edge_labels = np.reshape(\n",
    "    edge_labels, (len(datetime_intersect), edge_labels.shape[1], 1)\n",
    ")\n",
    "print(edge_labels.shape)\n",
    "edge_attributes = np.copy(edge_labels)\n",
    "print(edge_attributes.shape)"
   ]
  },
  {
   "cell_type": "code",
   "execution_count": 43,
   "metadata": {},
   "outputs": [
    {
     "name": "stdout",
     "output_type": "stream",
     "text": [
      "(43729, 10, 24)\n",
      "[3.656000e+01 1.003953e+04 2.311300e+02 0.000000e+00 0.000000e+00\n",
      " 1.791710e+03 4.368500e+02 0.000000e+00 0.000000e+00 3.596000e+01\n",
      " 0.000000e+00 3.904350e+03 6.016400e+02 0.000000e+00 0.000000e+00\n",
      " 2.690100e+02 4.937000e+01 2.415900e+02 0.000000e+00 0.000000e+00\n",
      " 2.300000e+01 6.000000e+00 1.000000e+00 4.000000e+00]\n"
     ]
    }
   ],
   "source": [
    "# Node features (dap, load) of shape (n_datetime, n_nodes, n_node_features)\n",
    "node_features = np.stack(\n",
    "    [\n",
    "        dap_df.to_numpy(),\n",
    "        load_df.to_numpy(),\n",
    "        biomass_df.to_numpy(),\n",
    "        fossil_brown_coal_df.to_numpy(),\n",
    "        fossil_coal_derived_gas_df.to_numpy(),\n",
    "        fossil_gas_df.to_numpy(),\n",
    "        fossil_hard_coal_df.to_numpy(),\n",
    "        fossil_oil_df.to_numpy(),\n",
    "        hydro_pumped_storage_df.to_numpy(),\n",
    "        hydro_run_of_river_and_poundage_df.to_numpy(),\n",
    "        hydro_water_reservoir_df.to_numpy(),\n",
    "        nuclear_df.to_numpy(),\n",
    "        other_df.to_numpy(),\n",
    "        other_renewable_df.to_numpy(),\n",
    "        solar_df.to_numpy(),\n",
    "        waste_df.to_numpy(),\n",
    "        wind_offshore_df.to_numpy(),\n",
    "        wind_onshore_df.to_numpy(),\n",
    "        geothermal_df.to_numpy(),\n",
    "        fossil_peat_df.to_numpy(),\n",
    "        temporal_hour_df.to_numpy(),\n",
    "        temporal_dow_df.to_numpy(),\n",
    "        temporal_month_df.to_numpy(),\n",
    "        temporal_doy_df.to_numpy(),\n",
    "    ],\n",
    "    axis=-1,\n",
    ")\n",
    "print(node_features.shape)\n",
    "print(node_features[0, 0, :])\n",
    "# print(node_features)\n",
    "n_nodes = node_features.shape[1]"
   ]
  },
  {
   "cell_type": "code",
   "execution_count": 44,
   "metadata": {},
   "outputs": [],
   "source": [
    "assert (\n",
    "    len(datetime_intersect)\n",
    "    == edge_indices.shape[0]\n",
    "    == edge_labels.shape[0]\n",
    "    == edge_attributes.shape[0]\n",
    "    == node_features.shape[0]\n",
    ")"
   ]
  },
  {
   "cell_type": "code",
   "execution_count": 45,
   "metadata": {},
   "outputs": [
    {
     "name": "stdout",
     "output_type": "stream",
     "text": [
      "2015-01-04 23:00:00\n",
      "[[0 0 0 0 3 3 3 4 4 4 4 2 2 2 2 2 5 6 6 7 7 7 7 7 8 8 1 1 9 9 9 9]\n",
      " [4 6 7 9 2 7 8 0 2 1 9 3 4 6 7 1 9 0 2 0 3 2 8 9 3 7 4 2 0 4 5 7]]\n",
      "[[   0.  ]\n",
      " [   0.  ]\n",
      " [   0.  ]\n",
      " [   0.  ]\n",
      " [   0.  ]\n",
      " [   0.  ]\n",
      " [1315.79]\n",
      " [  52.  ]\n",
      " [ 617.  ]\n",
      " [ 279.  ]\n",
      " [1433.  ]\n",
      " [   0.  ]\n",
      " [   0.  ]\n",
      " [   0.  ]\n",
      " [3205.  ]\n",
      " [   0.  ]\n",
      " [   0.  ]\n",
      " [   0.  ]\n",
      " [   0.  ]\n",
      " [2106.86]\n",
      " [   0.  ]\n",
      " [   0.  ]\n",
      " [   0.  ]\n",
      " [ 964.  ]\n",
      " [   0.  ]\n",
      " [ 704.  ]\n",
      " [   0.  ]\n",
      " [   0.  ]\n",
      " [   0.  ]\n",
      " [   0.  ]\n",
      " [ 169.19]\n",
      " [   0.  ]]\n",
      "[[   0.  ]\n",
      " [   0.  ]\n",
      " [   0.  ]\n",
      " [   0.  ]\n",
      " [   0.  ]\n",
      " [   0.  ]\n",
      " [1315.79]\n",
      " [  52.  ]\n",
      " [ 617.  ]\n",
      " [ 279.  ]\n",
      " [1433.  ]\n",
      " [   0.  ]\n",
      " [   0.  ]\n",
      " [   0.  ]\n",
      " [3205.  ]\n",
      " [   0.  ]\n",
      " [   0.  ]\n",
      " [   0.  ]\n",
      " [   0.  ]\n",
      " [2106.86]\n",
      " [   0.  ]\n",
      " [   0.  ]\n",
      " [   0.  ]\n",
      " [ 964.  ]\n",
      " [   0.  ]\n",
      " [ 704.  ]\n",
      " [   0.  ]\n",
      " [   0.  ]\n",
      " [   0.  ]\n",
      " [   0.  ]\n",
      " [ 169.19]\n",
      " [   0.  ]]\n",
      "[[3.65600000e+01 1.00395300e+04 2.31130000e+02 0.00000000e+00\n",
      "  0.00000000e+00 1.79171000e+03 4.36850000e+02 0.00000000e+00\n",
      "  0.00000000e+00 3.59600000e+01 0.00000000e+00 3.90435000e+03\n",
      "  6.01640000e+02 0.00000000e+00 0.00000000e+00 2.69010000e+02\n",
      "  4.93700000e+01 2.41590000e+02 0.00000000e+00 0.00000000e+00\n",
      "  2.30000000e+01 6.00000000e+00 1.00000000e+00 4.00000000e+00]\n",
      " [2.86250000e+01 3.19045000e+03 6.92000000e+01 0.00000000e+00\n",
      "  0.00000000e+00 4.92090000e+02 1.42000000e+03 2.12100000e+01\n",
      "  0.00000000e+00 0.00000000e+00 0.00000000e+00 0.00000000e+00\n",
      "  0.00000000e+00 0.00000000e+00 0.00000000e+00 1.75330000e+02\n",
      "  7.71120000e+02 1.57288000e+03 0.00000000e+00 0.00000000e+00\n",
      "  2.30000000e+01 6.00000000e+00 1.00000000e+00 4.00000000e+00]\n",
      " [3.65600000e+01 6.26100000e+04 1.97000000e+02 0.00000000e+00\n",
      "  0.00000000e+00 2.43500000e+03 1.48400000e+03 2.61000000e+02\n",
      "  1.30400000e+03 5.27100000e+03 8.19000000e+02 5.64990000e+04\n",
      "  0.00000000e+00 0.00000000e+00 0.00000000e+00 2.78000000e+02\n",
      "  0.00000000e+00 1.05700000e+03 0.00000000e+00 0.00000000e+00\n",
      "  2.30000000e+01 6.00000000e+00 1.00000000e+00 4.00000000e+00]\n",
      " [2.23400000e+01 4.66678700e+04 3.95028750e+03 1.60414725e+04\n",
      "  0.00000000e+00 9.87150000e+02 2.20156250e+03 1.91917500e+02\n",
      "  6.73325000e+01 1.65707250e+03 2.30700000e+01 1.09347475e+04\n",
      "  3.31460000e+02 1.21310000e+02 0.00000000e+00 5.23300000e+02\n",
      "  4.78020000e+02 1.27166450e+04 1.07125000e+01 0.00000000e+00\n",
      "  2.30000000e+01 6.00000000e+00 1.00000000e+00 4.00000000e+00]\n",
      " [4.91400000e+01 2.90401500e+03 0.00000000e+00 0.00000000e+00\n",
      "  0.00000000e+00 7.20695000e+02 4.78655000e+02 6.00000000e-02\n",
      "  1.52050000e+01 1.54355000e+02 0.00000000e+00 0.00000000e+00\n",
      "  0.00000000e+00 0.00000000e+00 0.00000000e+00 0.00000000e+00\n",
      "  0.00000000e+00 7.73090000e+02 0.00000000e+00 3.32240000e+02\n",
      "  2.30000000e+01 6.00000000e+00 1.00000000e+00 4.00000000e+00]\n",
      " [2.23400000e+01 4.37000000e+02 5.63500000e+00 0.00000000e+00\n",
      "  0.00000000e+00 4.79500000e+00 0.00000000e+00 0.00000000e+00\n",
      "  0.00000000e+00 8.68500000e+00 0.00000000e+00 0.00000000e+00\n",
      "  0.00000000e+00 0.00000000e+00 0.00000000e+00 1.20625000e+01\n",
      "  0.00000000e+00 1.57000000e+00 0.00000000e+00 0.00000000e+00\n",
      "  2.30000000e+01 6.00000000e+00 1.00000000e+00 4.00000000e+00]\n",
      " [3.65600000e+01 1.14760075e+04 0.00000000e+00 0.00000000e+00\n",
      "  0.00000000e+00 1.66168500e+03 1.17240000e+03 0.00000000e+00\n",
      "  0.00000000e+00 0.00000000e+00 0.00000000e+00 4.88195000e+02\n",
      "  5.09762000e+03 0.00000000e+00 0.00000000e+00 1.20547500e+02\n",
      "  5.32725000e+01 1.28867500e+02 0.00000000e+00 0.00000000e+00\n",
      "  2.30000000e+01 6.00000000e+00 1.00000000e+00 4.00000000e+00]\n",
      " [2.85380000e+01 1.67024600e+04 0.00000000e+00 0.00000000e+00\n",
      "  0.00000000e+00 3.72610000e+02 0.00000000e+00 0.00000000e+00\n",
      "  0.00000000e+00 1.18922000e+03 1.49508300e+04 0.00000000e+00\n",
      "  1.64000000e+01 0.00000000e+00 0.00000000e+00 0.00000000e+00\n",
      "  0.00000000e+00 2.73350000e+02 0.00000000e+00 0.00000000e+00\n",
      "  2.30000000e+01 6.00000000e+00 1.00000000e+00 4.00000000e+00]\n",
      " [3.78000000e+01 7.01962000e+03 0.00000000e+00 0.00000000e+00\n",
      "  0.00000000e+00 0.00000000e+00 0.00000000e+00 0.00000000e+00\n",
      "  0.00000000e+00 0.00000000e+00 0.00000000e+00 0.00000000e+00\n",
      "  0.00000000e+00 0.00000000e+00 4.00000000e-02 0.00000000e+00\n",
      "  0.00000000e+00 8.60000000e-01 0.00000000e+00 0.00000000e+00\n",
      "  2.30000000e+01 6.00000000e+00 1.00000000e+00 4.00000000e+00]\n",
      " [4.28600000e+01 2.88430000e+04 0.00000000e+00 0.00000000e+00\n",
      "  0.00000000e+00 0.00000000e+00 0.00000000e+00 0.00000000e+00\n",
      "  0.00000000e+00 0.00000000e+00 0.00000000e+00 0.00000000e+00\n",
      "  0.00000000e+00 0.00000000e+00 0.00000000e+00 0.00000000e+00\n",
      "  1.34050000e+01 3.67270000e+02 0.00000000e+00 0.00000000e+00\n",
      "  2.30000000e+01 6.00000000e+00 1.00000000e+00 4.00000000e+00]]\n"
     ]
    }
   ],
   "source": [
    "# Print a snapshot of the graph data\n",
    "idx = 0\n",
    "print(datetime_intersect[idx])\n",
    "print(edge_indices[idx])\n",
    "print(edge_labels[idx])\n",
    "print(edge_attributes[idx])\n",
    "print(node_features[idx])"
   ]
  },
  {
   "cell_type": "code",
   "execution_count": 46,
   "metadata": {},
   "outputs": [],
   "source": [
    "# https://pytorch-geometric.readthedocs.io/en/latest/generated/torch_geometric.nn.conv.GATv2Conv.html\n",
    "class GNNEncoder(nn.Module):\n",
    "    def __init__(\n",
    "        self, hidden_channels, num_heads_GAT, dropout_p_GAT, edge_dim_GAT, momentum_GAT\n",
    "    ):\n",
    "        super().__init__()\n",
    "        self.gat = GATv2Conv(\n",
    "            (-1, -1),\n",
    "            hidden_channels,\n",
    "            add_self_loops=False,\n",
    "            heads=num_heads_GAT,\n",
    "            edge_dim=edge_dim_GAT,\n",
    "        )\n",
    "        self.norm = BatchNorm1d(\n",
    "            hidden_channels,\n",
    "            momentum=momentum_GAT,\n",
    "            affine=False,\n",
    "            track_running_stats=False,\n",
    "        )\n",
    "        self.dropout = nn.Dropout(dropout_p_GAT)\n",
    "\n",
    "    def forward(self, x, edge_indices, edge_attrs):\n",
    "        x = self.dropout(x)\n",
    "        x = self.norm(x)\n",
    "        nodes_embedds = self.gat(x, edge_indices, edge_attrs)\n",
    "        nodes_embedds = F.leaky_relu(nodes_embedds, negative_slope=0.1)\n",
    "        return nodes_embedds"
   ]
  },
  {
   "cell_type": "code",
   "execution_count": 47,
   "metadata": {},
   "outputs": [],
   "source": [
    "class PositionalEncoding(nn.Module):\n",
    "    def __init__(self, d_model: int, dropout: float = 0.1, max_len: int = 5000):\n",
    "        super().__init__()\n",
    "        self.dropout = nn.Dropout(p=dropout)\n",
    "\n",
    "        position = torch.arange(max_len).unsqueeze(1)\n",
    "        div_term = torch.exp(\n",
    "            torch.arange(0, d_model, 2) * (-math.log(10000.0) / d_model)\n",
    "        )\n",
    "        pe = torch.zeros(max_len, 1, d_model)\n",
    "        pe[:, 0, 0::2] = torch.sin(position * div_term)\n",
    "        pe[:, 0, 1::2] = torch.cos(position * div_term)\n",
    "        self.register_buffer(\"pe\", pe)\n",
    "\n",
    "    def forward(self, x: Tensor) -> Tensor:\n",
    "        x = x + self.pe[: x.size(0)]\n",
    "        return self.dropout(x)"
   ]
  },
  {
   "cell_type": "code",
   "execution_count": 48,
   "metadata": {},
   "outputs": [],
   "source": [
    "class Transformer(nn.Module):\n",
    "    def __init__(\n",
    "        self,\n",
    "        dim_model,\n",
    "        num_heads_TR,\n",
    "        num_encoder_layers_TR,\n",
    "        num_decoder_layers_TR,\n",
    "        dropout_p_TR,\n",
    "    ):\n",
    "        super().__init__()\n",
    "        self.pos_encoder = PositionalEncoding(dim_model)\n",
    "        self.transformer = nn.Transformer(\n",
    "            d_model=dim_model,\n",
    "            nhead=num_heads_TR,\n",
    "            num_decoder_layers=num_encoder_layers_TR,\n",
    "            num_encoder_layers=num_decoder_layers_TR,\n",
    "            dropout=dropout_p_TR,\n",
    "        )\n",
    "\n",
    "    def forward(self, src, trg):\n",
    "        src = self.pos_encoder(src)\n",
    "        trg = self.pos_encoder(trg)\n",
    "        temporal_node_embeddings = self.transformer(src, trg)\n",
    "        return temporal_node_embeddings"
   ]
  },
  {
   "cell_type": "code",
   "execution_count": 49,
   "metadata": {},
   "outputs": [],
   "source": [
    "class EdgeDecoder(nn.Module):\n",
    "    def __init__(self, hidden_channels, num_heads_GAT, num_edges, num_nodes):\n",
    "        super().__init__()\n",
    "        self.lin1 = nn.Linear(\n",
    "            num_nodes * hidden_channels * num_heads_GAT, hidden_channels\n",
    "        )\n",
    "        self.lin2 = nn.Linear(hidden_channels, num_edges)\n",
    "\n",
    "    def forward(self, x):\n",
    "        # Flatten the tensor\n",
    "        x = torch.flatten(x)\n",
    "        x = self.lin1(x)\n",
    "        x = F.leaky_relu(x, negative_slope=0.1)\n",
    "        x = self.lin2(x)\n",
    "        return x.view(-1)"
   ]
  },
  {
   "cell_type": "code",
   "execution_count": 50,
   "metadata": {},
   "outputs": [],
   "source": [
    "class Model(nn.Module):\n",
    "    def __init__(\n",
    "        self,\n",
    "        hidden_channels,\n",
    "        num_heads_GAT,\n",
    "        dropout_p_GAT,\n",
    "        edge_dim_GAT,\n",
    "        momentum_GAT,\n",
    "        dim_model,\n",
    "        num_heads_TR,\n",
    "        num_encoder_layers_TR,\n",
    "        num_decoder_layers_TR,\n",
    "        dropout_p_TR,\n",
    "        n_edges,\n",
    "        n_nodes,\n",
    "    ):\n",
    "        super().__init__()\n",
    "        self.encoder = GNNEncoder(\n",
    "            hidden_channels, num_heads_GAT, dropout_p_GAT, edge_dim_GAT, momentum_GAT\n",
    "        )  # node embedding with GAT\n",
    "        self.transformer = Transformer(\n",
    "            dim_model,\n",
    "            num_heads_TR,\n",
    "            num_encoder_layers_TR,\n",
    "            num_decoder_layers_TR,\n",
    "            dropout_p_TR,\n",
    "        )\n",
    "        self.decoder = EdgeDecoder(hidden_channels, num_heads_GAT, n_edges, n_nodes)\n",
    "\n",
    "    def forward(self, x, edge_indices, edge_attrs):\n",
    "        src_embedds = []\n",
    "        for i in range(x.shape[0]):\n",
    "            src_embedds.append(self.encoder(x[i], edge_indices[i], edge_attrs[i]))\n",
    "        src_embedds = torch.stack(src_embedds)\n",
    "        trg_embedds = src_embedds[-1].unsqueeze(0)\n",
    "        temporal_node_embedds = self.transformer(src_embedds, trg_embedds)\n",
    "        temporal_node_embedds = temporal_node_embedds.squeeze(0)\n",
    "        edge_predictions = self.decoder(temporal_node_embedds)\n",
    "        return edge_predictions"
   ]
  },
  {
   "cell_type": "code",
   "execution_count": 51,
   "metadata": {},
   "outputs": [],
   "source": [
    "def train(model, data, window_size, num_epochs, lr):\n",
    "    model = model.to(device)\n",
    "    data = [d.to(device) for d in data]\n",
    "    model.train()\n",
    "    optimizer = torch.optim.Adam(model.parameters(), lr=lr)\n",
    "    criterion = nn.MSELoss()\n",
    "    for epoch in range(num_epochs):\n",
    "        loss_sum = None\n",
    "        for m in tqdm(range(len(data) - window_size)):\n",
    "            # for m in range(len(data) - window_size):\n",
    "            optimizer.zero_grad()\n",
    "            x = torch.stack([data[m + i].x for i in range(window_size)])\n",
    "            edge_indices = torch.stack(\n",
    "                [data[m + i].edge_index for i in range(window_size)]\n",
    "            )\n",
    "            edge_attrs = torch.stack(\n",
    "                [data[m + i].edge_attr for i in range(window_size)]\n",
    "            )\n",
    "            y = data[m + window_size].y\n",
    "            y_pred = model(x, edge_indices, edge_attrs)\n",
    "            y_pred = y_pred.view((-1, 1))\n",
    "            loss = criterion(y_pred, y)\n",
    "            # print(f\"Epoch {epoch}, Loss {loss.item()}\")\n",
    "            if loss_sum is None:\n",
    "                loss_sum = loss\n",
    "            else:\n",
    "                loss_sum += loss\n",
    "            # if m % 24 * 7 == 0 or m == len(data) - window_size - 1:\n",
    "            if m == len(data) - window_size - 1 or m % 24 == 0:\n",
    "                diff = y.squeeze() - y_pred\n",
    "                diff = diff.detach().cpu().numpy()\n",
    "                print(f\"Epoch {epoch}, m={m}\", diff.mean())\n",
    "                loss_sum.backward()\n",
    "                optimizer.step()\n",
    "                optimizer.zero_grad()\n",
    "                loss_sum = None\n",
    "\n",
    "    return model"
   ]
  },
  {
   "cell_type": "code",
   "execution_count": 52,
   "metadata": {},
   "outputs": [
    {
     "name": "stdout",
     "output_type": "stream",
     "text": [
      "(43729, 10, 24)\n",
      "(43729, 2, 32)\n",
      "(43729, 32, 1)\n",
      "(43729, 32, 1)\n",
      "43729\n"
     ]
    }
   ],
   "source": [
    "print(node_features.shape)\n",
    "print(edge_indices.shape)\n",
    "print(edge_attributes.shape)\n",
    "print(edge_labels.shape)\n",
    "snapshots = []\n",
    "for i in range(len(datetime_intersect)):\n",
    "    x = torch.tensor(node_features[i], dtype=torch.float)\n",
    "    edge_index = torch.tensor(edge_indices[i], dtype=torch.long)\n",
    "    edge_attr = torch.tensor(edge_attributes[i], dtype=torch.float)\n",
    "    y = torch.tensor(edge_labels[i], dtype=torch.float)\n",
    "    data = Data(x=x, edge_index=edge_index, edge_attr=edge_attr, y=y)\n",
    "    snapshots.append(data)\n",
    "print(len(snapshots))"
   ]
  },
  {
   "cell_type": "code",
   "execution_count": 53,
   "metadata": {},
   "outputs": [
    {
     "name": "stderr",
     "output_type": "stream",
     "text": [
      " 79%|███████▉  | 6887/8736 [06:14<01:11, 26.01it/s]"
     ]
    },
    {
     "name": "stdout",
     "output_type": "stream",
     "text": [
      "Epoch 2, m=6888 100.416885\n"
     ]
    },
    {
     "name": "stderr",
     "output_type": "stream",
     "text": [
      " 79%|███████▉  | 6912/8736 [06:15<01:07, 27.13it/s]"
     ]
    },
    {
     "name": "stdout",
     "output_type": "stream",
     "text": [
      "Epoch 2, m=6912 100.10389\n"
     ]
    },
    {
     "name": "stderr",
     "output_type": "stream",
     "text": [
      " 79%|███████▉  | 6933/8736 [06:16<01:11, 25.32it/s]"
     ]
    },
    {
     "name": "stdout",
     "output_type": "stream",
     "text": [
      "Epoch 2, m=6936 120.12009\n"
     ]
    },
    {
     "name": "stderr",
     "output_type": "stream",
     "text": [
      " 80%|███████▉  | 6959/8736 [06:18<01:05, 26.96it/s]"
     ]
    },
    {
     "name": "stdout",
     "output_type": "stream",
     "text": [
      "Epoch 2, m=6960 123.95025\n"
     ]
    },
    {
     "name": "stderr",
     "output_type": "stream",
     "text": [
      " 80%|███████▉  | 6984/8736 [06:19<01:04, 26.99it/s]"
     ]
    },
    {
     "name": "stdout",
     "output_type": "stream",
     "text": [
      "Epoch 2, m=6984 71.968834\n"
     ]
    },
    {
     "name": "stderr",
     "output_type": "stream",
     "text": [
      " 80%|████████  | 7006/8736 [06:20<01:05, 26.43it/s]"
     ]
    },
    {
     "name": "stdout",
     "output_type": "stream",
     "text": [
      "Epoch 2, m=7008 32.50405\n"
     ]
    },
    {
     "name": "stderr",
     "output_type": "stream",
     "text": [
      " 80%|████████  | 7028/8736 [06:21<01:04, 26.29it/s]"
     ]
    },
    {
     "name": "stdout",
     "output_type": "stream",
     "text": [
      "Epoch 2, m=7032 29.336586\n"
     ]
    },
    {
     "name": "stderr",
     "output_type": "stream",
     "text": [
      " 81%|████████  | 7054/8736 [06:23<01:00, 27.70it/s]"
     ]
    },
    {
     "name": "stdout",
     "output_type": "stream",
     "text": [
      "Epoch 2, m=7056 86.65198\n"
     ]
    },
    {
     "name": "stderr",
     "output_type": "stream",
     "text": [
      " 81%|████████  | 7079/8736 [06:24<00:57, 28.83it/s]"
     ]
    },
    {
     "name": "stdout",
     "output_type": "stream",
     "text": [
      "Epoch 2, m=7080 79.34653\n"
     ]
    },
    {
     "name": "stderr",
     "output_type": "stream",
     "text": [
      " 81%|████████▏ | 7102/8736 [06:25<00:58, 27.73it/s]"
     ]
    },
    {
     "name": "stdout",
     "output_type": "stream",
     "text": [
      "Epoch 2, m=7104 63.893677\n"
     ]
    },
    {
     "name": "stderr",
     "output_type": "stream",
     "text": [
      " 82%|████████▏ | 7128/8736 [06:26<00:58, 27.72it/s]"
     ]
    },
    {
     "name": "stdout",
     "output_type": "stream",
     "text": [
      "Epoch 2, m=7128 44.49556\n"
     ]
    },
    {
     "name": "stderr",
     "output_type": "stream",
     "text": [
      " 82%|████████▏ | 7150/8736 [06:28<01:00, 26.35it/s]"
     ]
    },
    {
     "name": "stdout",
     "output_type": "stream",
     "text": [
      "Epoch 2, m=7152 -14.090698\n"
     ]
    },
    {
     "name": "stderr",
     "output_type": "stream",
     "text": [
      " 82%|████████▏ | 7175/8736 [06:29<00:54, 28.85it/s]"
     ]
    },
    {
     "name": "stdout",
     "output_type": "stream",
     "text": [
      "Epoch 2, m=7176 -36.775593\n"
     ]
    },
    {
     "name": "stderr",
     "output_type": "stream",
     "text": [
      " 82%|████████▏ | 7200/8736 [06:30<00:56, 27.15it/s]"
     ]
    },
    {
     "name": "stdout",
     "output_type": "stream",
     "text": [
      "Epoch 2, m=7200 11.46801\n"
     ]
    },
    {
     "name": "stderr",
     "output_type": "stream",
     "text": [
      " 83%|████████▎ | 7223/8736 [06:32<00:55, 27.13it/s]"
     ]
    },
    {
     "name": "stdout",
     "output_type": "stream",
     "text": [
      "Epoch 2, m=7224 13.108147\n"
     ]
    },
    {
     "name": "stderr",
     "output_type": "stream",
     "text": [
      " 83%|████████▎ | 7245/8736 [06:33<00:56, 26.39it/s]"
     ]
    },
    {
     "name": "stdout",
     "output_type": "stream",
     "text": [
      "Epoch 2, m=7248 -44.84626\n"
     ]
    },
    {
     "name": "stderr",
     "output_type": "stream",
     "text": [
      " 83%|████████▎ | 7272/8736 [06:34<00:48, 29.89it/s]"
     ]
    },
    {
     "name": "stdout",
     "output_type": "stream",
     "text": [
      "Epoch 2, m=7272 8.252632\n"
     ]
    },
    {
     "name": "stderr",
     "output_type": "stream",
     "text": [
      " 83%|████████▎ | 7292/8736 [06:35<00:56, 25.72it/s]"
     ]
    },
    {
     "name": "stdout",
     "output_type": "stream",
     "text": [
      "Epoch 2, m=7296 10.76194\n"
     ]
    },
    {
     "name": "stderr",
     "output_type": "stream",
     "text": [
      " 84%|████████▍ | 7319/8736 [06:37<00:48, 29.50it/s]"
     ]
    },
    {
     "name": "stdout",
     "output_type": "stream",
     "text": [
      "Epoch 2, m=7320 13.940407\n"
     ]
    },
    {
     "name": "stderr",
     "output_type": "stream",
     "text": [
      " 84%|████████▍ | 7341/8736 [06:38<00:50, 27.42it/s]"
     ]
    },
    {
     "name": "stdout",
     "output_type": "stream",
     "text": [
      "Epoch 2, m=7344 47.720024\n"
     ]
    },
    {
     "name": "stderr",
     "output_type": "stream",
     "text": [
      " 84%|████████▍ | 7366/8736 [06:39<00:47, 29.13it/s]"
     ]
    },
    {
     "name": "stdout",
     "output_type": "stream",
     "text": [
      "Epoch 2, m=7368 77.78702\n"
     ]
    },
    {
     "name": "stderr",
     "output_type": "stream",
     "text": [
      " 85%|████████▍ | 7388/8736 [06:40<00:50, 26.81it/s]"
     ]
    },
    {
     "name": "stdout",
     "output_type": "stream",
     "text": [
      "Epoch 2, m=7392 46.038704\n"
     ]
    },
    {
     "name": "stderr",
     "output_type": "stream",
     "text": [
      " 85%|████████▍ | 7414/8736 [06:42<00:47, 28.08it/s]"
     ]
    },
    {
     "name": "stdout",
     "output_type": "stream",
     "text": [
      "Epoch 2, m=7416 67.27581\n"
     ]
    },
    {
     "name": "stderr",
     "output_type": "stream",
     "text": [
      " 85%|████████▌ | 7436/8736 [06:43<00:50, 25.99it/s]"
     ]
    },
    {
     "name": "stdout",
     "output_type": "stream",
     "text": [
      "Epoch 2, m=7440 50.644737\n"
     ]
    },
    {
     "name": "stderr",
     "output_type": "stream",
     "text": [
      " 85%|████████▌ | 7464/8736 [06:44<00:42, 30.07it/s]"
     ]
    },
    {
     "name": "stdout",
     "output_type": "stream",
     "text": [
      "Epoch 2, m=7464 88.66801\n"
     ]
    },
    {
     "name": "stderr",
     "output_type": "stream",
     "text": [
      " 86%|████████▌ | 7487/8736 [06:45<00:45, 27.27it/s]"
     ]
    },
    {
     "name": "stdout",
     "output_type": "stream",
     "text": [
      "Epoch 2, m=7488 68.92307\n"
     ]
    },
    {
     "name": "stderr",
     "output_type": "stream",
     "text": [
      " 86%|████████▌ | 7508/8736 [06:47<00:47, 25.73it/s]"
     ]
    },
    {
     "name": "stdout",
     "output_type": "stream",
     "text": [
      "Epoch 2, m=7512 -14.243683\n"
     ]
    },
    {
     "name": "stderr",
     "output_type": "stream",
     "text": [
      " 86%|████████▋ | 7535/8736 [06:48<00:41, 28.75it/s]"
     ]
    },
    {
     "name": "stdout",
     "output_type": "stream",
     "text": [
      "Epoch 2, m=7536 11.956139\n"
     ]
    },
    {
     "name": "stderr",
     "output_type": "stream",
     "text": [
      " 87%|████████▋ | 7559/8736 [06:49<00:41, 28.33it/s]"
     ]
    },
    {
     "name": "stdout",
     "output_type": "stream",
     "text": [
      "Epoch 2, m=7560 31.199799\n"
     ]
    },
    {
     "name": "stderr",
     "output_type": "stream",
     "text": [
      " 87%|████████▋ | 7584/8736 [06:51<00:40, 28.12it/s]"
     ]
    },
    {
     "name": "stdout",
     "output_type": "stream",
     "text": [
      "Epoch 2, m=7584 0.18450928\n"
     ]
    },
    {
     "name": "stderr",
     "output_type": "stream",
     "text": [
      " 87%|████████▋ | 7606/8736 [06:52<00:43, 26.19it/s]"
     ]
    },
    {
     "name": "stdout",
     "output_type": "stream",
     "text": [
      "Epoch 2, m=7608 63.447243\n"
     ]
    },
    {
     "name": "stderr",
     "output_type": "stream",
     "text": [
      " 87%|████████▋ | 7631/8736 [06:53<00:38, 28.80it/s]"
     ]
    },
    {
     "name": "stdout",
     "output_type": "stream",
     "text": [
      "Epoch 2, m=7632 52.120003\n"
     ]
    },
    {
     "name": "stderr",
     "output_type": "stream",
     "text": [
      " 88%|████████▊ | 7655/8736 [06:54<00:40, 26.75it/s]"
     ]
    },
    {
     "name": "stdout",
     "output_type": "stream",
     "text": [
      "Epoch 2, m=7656 32.447327\n"
     ]
    },
    {
     "name": "stderr",
     "output_type": "stream",
     "text": [
      " 88%|████████▊ | 7678/8736 [06:56<00:51, 20.72it/s]"
     ]
    },
    {
     "name": "stdout",
     "output_type": "stream",
     "text": [
      "Epoch 2, m=7680 72.0876\n"
     ]
    },
    {
     "name": "stderr",
     "output_type": "stream",
     "text": [
      " 88%|████████▊ | 7701/8736 [06:57<00:40, 25.33it/s]"
     ]
    },
    {
     "name": "stdout",
     "output_type": "stream",
     "text": [
      "Epoch 2, m=7704 -0.2614212\n"
     ]
    },
    {
     "name": "stderr",
     "output_type": "stream",
     "text": [
      " 88%|████████▊ | 7728/8736 [06:59<00:36, 27.96it/s]"
     ]
    },
    {
     "name": "stdout",
     "output_type": "stream",
     "text": [
      "Epoch 2, m=7728 22.244537\n"
     ]
    },
    {
     "name": "stderr",
     "output_type": "stream",
     "text": [
      " 89%|████████▊ | 7752/8736 [07:00<00:36, 26.73it/s]"
     ]
    },
    {
     "name": "stdout",
     "output_type": "stream",
     "text": [
      "Epoch 2, m=7752 53.522507\n"
     ]
    },
    {
     "name": "stderr",
     "output_type": "stream",
     "text": [
      " 89%|████████▉ | 7776/8736 [07:01<00:35, 27.38it/s]"
     ]
    },
    {
     "name": "stdout",
     "output_type": "stream",
     "text": [
      "Epoch 2, m=7776 77.80987\n"
     ]
    },
    {
     "name": "stderr",
     "output_type": "stream",
     "text": [
      " 89%|████████▉ | 7800/8736 [07:03<00:35, 26.35it/s]"
     ]
    },
    {
     "name": "stdout",
     "output_type": "stream",
     "text": [
      "Epoch 2, m=7800 -12.732674\n"
     ]
    },
    {
     "name": "stderr",
     "output_type": "stream",
     "text": [
      " 90%|████████▉ | 7824/8736 [07:04<00:33, 27.25it/s]"
     ]
    },
    {
     "name": "stdout",
     "output_type": "stream",
     "text": [
      "Epoch 2, m=7824 -6.175812\n"
     ]
    },
    {
     "name": "stderr",
     "output_type": "stream",
     "text": [
      " 90%|████████▉ | 7848/8736 [07:05<00:32, 27.65it/s]"
     ]
    },
    {
     "name": "stdout",
     "output_type": "stream",
     "text": [
      "Epoch 2, m=7848 3.5869064\n"
     ]
    },
    {
     "name": "stderr",
     "output_type": "stream",
     "text": [
      " 90%|█████████ | 7868/8736 [07:07<00:34, 24.92it/s]"
     ]
    },
    {
     "name": "stdout",
     "output_type": "stream",
     "text": [
      "Epoch 2, m=7872 -28.469704\n"
     ]
    },
    {
     "name": "stderr",
     "output_type": "stream",
     "text": [
      " 90%|█████████ | 7894/8736 [07:08<00:29, 28.83it/s]"
     ]
    },
    {
     "name": "stdout",
     "output_type": "stream",
     "text": [
      "Epoch 2, m=7896 29.592178\n"
     ]
    },
    {
     "name": "stderr",
     "output_type": "stream",
     "text": [
      " 91%|█████████ | 7918/8736 [07:09<00:30, 27.18it/s]"
     ]
    },
    {
     "name": "stdout",
     "output_type": "stream",
     "text": [
      "Epoch 2, m=7920 29.84816\n"
     ]
    },
    {
     "name": "stderr",
     "output_type": "stream",
     "text": [
      " 91%|█████████ | 7942/8736 [07:11<00:28, 27.88it/s]"
     ]
    },
    {
     "name": "stdout",
     "output_type": "stream",
     "text": [
      "Epoch 2, m=7944 55.257668\n"
     ]
    },
    {
     "name": "stderr",
     "output_type": "stream",
     "text": [
      " 91%|█████████ | 7967/8736 [07:12<00:26, 28.52it/s]"
     ]
    },
    {
     "name": "stdout",
     "output_type": "stream",
     "text": [
      "Epoch 2, m=7968 6.3739624\n"
     ]
    },
    {
     "name": "stderr",
     "output_type": "stream",
     "text": [
      " 91%|█████████▏| 7989/8736 [07:13<00:29, 25.37it/s]"
     ]
    },
    {
     "name": "stdout",
     "output_type": "stream",
     "text": [
      "Epoch 2, m=7992 -44.752308\n"
     ]
    },
    {
     "name": "stderr",
     "output_type": "stream",
     "text": [
      " 92%|█████████▏| 8014/8736 [07:15<00:25, 28.52it/s]"
     ]
    },
    {
     "name": "stdout",
     "output_type": "stream",
     "text": [
      "Epoch 2, m=8016 -19.169884\n"
     ]
    },
    {
     "name": "stderr",
     "output_type": "stream",
     "text": [
      " 92%|█████████▏| 8036/8736 [07:16<00:25, 27.02it/s]"
     ]
    },
    {
     "name": "stdout",
     "output_type": "stream",
     "text": [
      "Epoch 2, m=8040 -7.886627\n"
     ]
    },
    {
     "name": "stderr",
     "output_type": "stream",
     "text": [
      " 92%|█████████▏| 8063/8736 [07:17<00:22, 29.47it/s]"
     ]
    },
    {
     "name": "stdout",
     "output_type": "stream",
     "text": [
      "Epoch 2, m=8064 10.520851\n"
     ]
    },
    {
     "name": "stderr",
     "output_type": "stream",
     "text": [
      " 93%|█████████▎| 8087/8736 [07:18<00:23, 27.86it/s]"
     ]
    },
    {
     "name": "stdout",
     "output_type": "stream",
     "text": [
      "Epoch 2, m=8088 -11.483971\n"
     ]
    },
    {
     "name": "stderr",
     "output_type": "stream",
     "text": [
      " 93%|█████████▎| 8110/8736 [07:20<00:23, 26.90it/s]"
     ]
    },
    {
     "name": "stdout",
     "output_type": "stream",
     "text": [
      "Epoch 2, m=8112 61.64615\n"
     ]
    },
    {
     "name": "stderr",
     "output_type": "stream",
     "text": [
      " 93%|█████████▎| 8136/8736 [07:21<00:20, 29.26it/s]"
     ]
    },
    {
     "name": "stdout",
     "output_type": "stream",
     "text": [
      "Epoch 2, m=8136 4.6289062\n"
     ]
    },
    {
     "name": "stderr",
     "output_type": "stream",
     "text": [
      " 93%|█████████▎| 8160/8736 [07:22<00:20, 27.52it/s]"
     ]
    },
    {
     "name": "stdout",
     "output_type": "stream",
     "text": [
      "Epoch 2, m=8160 58.203056\n"
     ]
    },
    {
     "name": "stderr",
     "output_type": "stream",
     "text": [
      " 94%|█████████▎| 8184/8736 [07:24<00:20, 27.01it/s]"
     ]
    },
    {
     "name": "stdout",
     "output_type": "stream",
     "text": [
      "Epoch 2, m=8184 91.41126\n"
     ]
    },
    {
     "name": "stderr",
     "output_type": "stream",
     "text": [
      " 94%|█████████▍| 8208/8736 [07:25<00:20, 25.69it/s]"
     ]
    },
    {
     "name": "stdout",
     "output_type": "stream",
     "text": [
      "Epoch 2, m=8208 36.698547\n"
     ]
    },
    {
     "name": "stderr",
     "output_type": "stream",
     "text": [
      " 94%|█████████▍| 8229/8736 [07:26<00:20, 24.93it/s]"
     ]
    },
    {
     "name": "stdout",
     "output_type": "stream",
     "text": [
      "Epoch 2, m=8232 45.60649\n"
     ]
    },
    {
     "name": "stderr",
     "output_type": "stream",
     "text": [
      " 94%|█████████▍| 8253/8736 [07:28<00:17, 27.06it/s]"
     ]
    },
    {
     "name": "stdout",
     "output_type": "stream",
     "text": [
      "Epoch 2, m=8256 42.39205\n"
     ]
    },
    {
     "name": "stderr",
     "output_type": "stream",
     "text": [
      " 95%|█████████▍| 8277/8736 [07:29<00:16, 27.75it/s]"
     ]
    },
    {
     "name": "stdout",
     "output_type": "stream",
     "text": [
      "Epoch 2, m=8280 57.558952\n"
     ]
    },
    {
     "name": "stderr",
     "output_type": "stream",
     "text": [
      " 95%|█████████▌| 8302/8736 [07:30<00:15, 28.06it/s]"
     ]
    },
    {
     "name": "stdout",
     "output_type": "stream",
     "text": [
      "Epoch 2, m=8304 60.375443\n"
     ]
    },
    {
     "name": "stderr",
     "output_type": "stream",
     "text": [
      " 95%|█████████▌| 8325/8736 [07:32<00:15, 27.09it/s]"
     ]
    },
    {
     "name": "stdout",
     "output_type": "stream",
     "text": [
      "Epoch 2, m=8328 24.52745\n"
     ]
    },
    {
     "name": "stderr",
     "output_type": "stream",
     "text": [
      " 96%|█████████▌| 8350/8736 [07:33<00:13, 28.26it/s]"
     ]
    },
    {
     "name": "stdout",
     "output_type": "stream",
     "text": [
      "Epoch 2, m=8352 -10.269745\n"
     ]
    },
    {
     "name": "stderr",
     "output_type": "stream",
     "text": [
      " 96%|█████████▌| 8374/8736 [07:34<00:12, 28.01it/s]"
     ]
    },
    {
     "name": "stdout",
     "output_type": "stream",
     "text": [
      "Epoch 2, m=8376 12.146034\n"
     ]
    },
    {
     "name": "stderr",
     "output_type": "stream",
     "text": [
      " 96%|█████████▌| 8398/8736 [07:35<00:12, 27.64it/s]"
     ]
    },
    {
     "name": "stdout",
     "output_type": "stream",
     "text": [
      "Epoch 2, m=8400 89.200294\n"
     ]
    },
    {
     "name": "stderr",
     "output_type": "stream",
     "text": [
      " 96%|█████████▋| 8422/8736 [07:37<00:11, 28.12it/s]"
     ]
    },
    {
     "name": "stdout",
     "output_type": "stream",
     "text": [
      "Epoch 2, m=8424 4.5527496\n"
     ]
    },
    {
     "name": "stderr",
     "output_type": "stream",
     "text": [
      " 97%|█████████▋| 8444/8736 [07:38<00:10, 26.73it/s]"
     ]
    },
    {
     "name": "stdout",
     "output_type": "stream",
     "text": [
      "Epoch 2, m=8448 -60.74202\n"
     ]
    },
    {
     "name": "stderr",
     "output_type": "stream",
     "text": [
      " 97%|█████████▋| 8471/8736 [07:39<00:08, 29.48it/s]"
     ]
    },
    {
     "name": "stdout",
     "output_type": "stream",
     "text": [
      "Epoch 2, m=8472 -39.377525\n"
     ]
    },
    {
     "name": "stderr",
     "output_type": "stream",
     "text": [
      " 97%|█████████▋| 8493/8736 [07:41<00:09, 26.43it/s]"
     ]
    },
    {
     "name": "stdout",
     "output_type": "stream",
     "text": [
      "Epoch 2, m=8496 -58.253902\n"
     ]
    },
    {
     "name": "stderr",
     "output_type": "stream",
     "text": [
      " 97%|█████████▋| 8517/8736 [07:42<00:07, 27.80it/s]"
     ]
    },
    {
     "name": "stdout",
     "output_type": "stream",
     "text": [
      "Epoch 2, m=8520 -54.771973\n"
     ]
    },
    {
     "name": "stderr",
     "output_type": "stream",
     "text": [
      " 98%|█████████▊| 8542/8736 [07:43<00:07, 26.63it/s]"
     ]
    },
    {
     "name": "stdout",
     "output_type": "stream",
     "text": [
      "Epoch 2, m=8544 -86.54287\n"
     ]
    },
    {
     "name": "stderr",
     "output_type": "stream",
     "text": [
      " 98%|█████████▊| 8567/8736 [07:44<00:05, 28.45it/s]"
     ]
    },
    {
     "name": "stdout",
     "output_type": "stream",
     "text": [
      "Epoch 2, m=8568 -30.285995\n"
     ]
    },
    {
     "name": "stderr",
     "output_type": "stream",
     "text": [
      " 98%|█████████▊| 8589/8736 [07:46<00:05, 26.46it/s]"
     ]
    },
    {
     "name": "stdout",
     "output_type": "stream",
     "text": [
      "Epoch 2, m=8592 -70.02002\n"
     ]
    },
    {
     "name": "stderr",
     "output_type": "stream",
     "text": [
      " 99%|█████████▊| 8615/8736 [07:47<00:04, 28.73it/s]"
     ]
    },
    {
     "name": "stdout",
     "output_type": "stream",
     "text": [
      "Epoch 2, m=8616 -13.80336\n"
     ]
    },
    {
     "name": "stderr",
     "output_type": "stream",
     "text": [
      " 99%|█████████▉| 8639/8736 [07:48<00:03, 26.98it/s]"
     ]
    },
    {
     "name": "stdout",
     "output_type": "stream",
     "text": [
      "Epoch 2, m=8640 -33.540504\n"
     ]
    },
    {
     "name": "stderr",
     "output_type": "stream",
     "text": [
      " 99%|█████████▉| 8660/8736 [07:50<00:02, 25.78it/s]"
     ]
    },
    {
     "name": "stdout",
     "output_type": "stream",
     "text": [
      "Epoch 2, m=8664 -44.267174\n"
     ]
    },
    {
     "name": "stderr",
     "output_type": "stream",
     "text": [
      " 99%|█████████▉| 8688/8736 [07:51<00:01, 27.18it/s]"
     ]
    },
    {
     "name": "stdout",
     "output_type": "stream",
     "text": [
      "Epoch 2, m=8688 -24.544235\n"
     ]
    },
    {
     "name": "stderr",
     "output_type": "stream",
     "text": [
      "100%|█████████▉| 8712/8736 [07:52<00:00, 25.97it/s]"
     ]
    },
    {
     "name": "stdout",
     "output_type": "stream",
     "text": [
      "Epoch 2, m=8712 22.151596\n"
     ]
    },
    {
     "name": "stderr",
     "output_type": "stream",
     "text": [
      "100%|█████████▉| 8734/8736 [07:54<00:00, 26.82it/s]"
     ]
    },
    {
     "name": "stdout",
     "output_type": "stream",
     "text": [
      "Epoch 2, m=8735 38.80275\n"
     ]
    },
    {
     "name": "stderr",
     "output_type": "stream",
     "text": [
      "100%|██████████| 8736/8736 [07:54<00:00, 18.40it/s]\n",
      "  0%|          | 4/8736 [00:00<04:38, 31.38it/s]"
     ]
    },
    {
     "name": "stdout",
     "output_type": "stream",
     "text": [
      "Epoch 3, m=0 -164.19379\n"
     ]
    },
    {
     "name": "stderr",
     "output_type": "stream",
     "text": [
      "  0%|          | 24/8736 [00:00<03:33, 40.78it/s]"
     ]
    },
    {
     "name": "stdout",
     "output_type": "stream",
     "text": [
      "Epoch 3, m=24 -168.0294\n"
     ]
    },
    {
     "name": "stderr",
     "output_type": "stream",
     "text": [
      "  1%|          | 46/8736 [00:01<05:17, 27.37it/s]"
     ]
    },
    {
     "name": "stdout",
     "output_type": "stream",
     "text": [
      "Epoch 3, m=48 -141.3866\n"
     ]
    },
    {
     "name": "stderr",
     "output_type": "stream",
     "text": [
      "  1%|          | 69/8736 [00:03<05:17, 27.33it/s]"
     ]
    },
    {
     "name": "stdout",
     "output_type": "stream",
     "text": [
      "Epoch 3, m=72 -35.355392\n"
     ]
    },
    {
     "name": "stderr",
     "output_type": "stream",
     "text": [
      "  1%|          | 93/8736 [00:04<05:07, 28.07it/s]"
     ]
    },
    {
     "name": "stdout",
     "output_type": "stream",
     "text": [
      "Epoch 3, m=96 -37.03753\n"
     ]
    },
    {
     "name": "stderr",
     "output_type": "stream",
     "text": [
      "  1%|▏         | 117/8736 [00:05<05:08, 27.95it/s]"
     ]
    },
    {
     "name": "stdout",
     "output_type": "stream",
     "text": [
      "Epoch 3, m=120 -67.276184\n"
     ]
    },
    {
     "name": "stderr",
     "output_type": "stream",
     "text": [
      "  2%|▏         | 142/8736 [00:06<05:12, 27.50it/s]"
     ]
    },
    {
     "name": "stdout",
     "output_type": "stream",
     "text": [
      "Epoch 3, m=144 -109.88258\n"
     ]
    },
    {
     "name": "stderr",
     "output_type": "stream",
     "text": [
      "  2%|▏         | 168/8736 [00:08<04:51, 29.40it/s]"
     ]
    },
    {
     "name": "stdout",
     "output_type": "stream",
     "text": [
      "Epoch 3, m=168 -42.748024\n"
     ]
    },
    {
     "name": "stderr",
     "output_type": "stream",
     "text": [
      "  2%|▏         | 189/8736 [00:09<05:36, 25.43it/s]"
     ]
    },
    {
     "name": "stdout",
     "output_type": "stream",
     "text": [
      "Epoch 3, m=192 -9.396194\n"
     ]
    },
    {
     "name": "stderr",
     "output_type": "stream",
     "text": [
      "  2%|▏         | 215/8736 [00:10<04:58, 28.56it/s]"
     ]
    },
    {
     "name": "stdout",
     "output_type": "stream",
     "text": [
      "Epoch 3, m=216 -28.413307\n"
     ]
    },
    {
     "name": "stderr",
     "output_type": "stream",
     "text": [
      "  3%|▎         | 238/8736 [00:12<05:17, 26.80it/s]"
     ]
    },
    {
     "name": "stdout",
     "output_type": "stream",
     "text": [
      "Epoch 3, m=240 -42.446457\n"
     ]
    },
    {
     "name": "stderr",
     "output_type": "stream",
     "text": [
      "  3%|▎         | 262/8736 [00:13<05:03, 27.96it/s]"
     ]
    },
    {
     "name": "stdout",
     "output_type": "stream",
     "text": [
      "Epoch 3, m=264 -31.014633\n"
     ]
    },
    {
     "name": "stderr",
     "output_type": "stream",
     "text": [
      "  3%|▎         | 288/8736 [00:14<04:48, 29.32it/s]"
     ]
    },
    {
     "name": "stdout",
     "output_type": "stream",
     "text": [
      "Epoch 3, m=288 -24.979256\n"
     ]
    },
    {
     "name": "stderr",
     "output_type": "stream",
     "text": [
      "  4%|▎         | 310/8736 [00:15<05:11, 27.03it/s]"
     ]
    },
    {
     "name": "stdout",
     "output_type": "stream",
     "text": [
      "Epoch 3, m=312 -20.396805\n"
     ]
    },
    {
     "name": "stderr",
     "output_type": "stream",
     "text": [
      "  4%|▍         | 332/8736 [00:17<05:10, 27.08it/s]"
     ]
    },
    {
     "name": "stdout",
     "output_type": "stream",
     "text": [
      "Epoch 3, m=336 -19.259705\n"
     ]
    },
    {
     "name": "stderr",
     "output_type": "stream",
     "text": [
      "  4%|▍         | 357/8736 [00:18<05:12, 26.80it/s]"
     ]
    },
    {
     "name": "stdout",
     "output_type": "stream",
     "text": [
      "Epoch 3, m=360 -89.04425\n"
     ]
    },
    {
     "name": "stderr",
     "output_type": "stream",
     "text": [
      "  4%|▍         | 381/8736 [00:19<05:39, 24.58it/s]"
     ]
    },
    {
     "name": "stdout",
     "output_type": "stream",
     "text": [
      "Epoch 3, m=384 -19.188042\n"
     ]
    },
    {
     "name": "stderr",
     "output_type": "stream",
     "text": [
      "  5%|▍         | 406/8736 [00:21<05:05, 27.27it/s]"
     ]
    },
    {
     "name": "stdout",
     "output_type": "stream",
     "text": [
      "Epoch 3, m=408 1.0183563\n"
     ]
    },
    {
     "name": "stderr",
     "output_type": "stream",
     "text": [
      "  5%|▍         | 430/8736 [00:22<04:56, 28.06it/s]"
     ]
    },
    {
     "name": "stdout",
     "output_type": "stream",
     "text": [
      "Epoch 3, m=432 -16.532204\n"
     ]
    },
    {
     "name": "stderr",
     "output_type": "stream",
     "text": [
      "  5%|▌         | 454/8736 [00:23<05:00, 27.55it/s]"
     ]
    },
    {
     "name": "stdout",
     "output_type": "stream",
     "text": [
      "Epoch 3, m=456 74.15493\n"
     ]
    },
    {
     "name": "stderr",
     "output_type": "stream",
     "text": [
      "  5%|▌         | 479/8736 [00:25<05:59, 22.96it/s]"
     ]
    },
    {
     "name": "stdout",
     "output_type": "stream",
     "text": [
      "Epoch 3, m=480 -9.040466\n"
     ]
    },
    {
     "name": "stderr",
     "output_type": "stream",
     "text": [
      "  6%|▌         | 503/8736 [00:26<05:03, 27.14it/s]"
     ]
    },
    {
     "name": "stdout",
     "output_type": "stream",
     "text": [
      "Epoch 3, m=504 72.9059\n"
     ]
    },
    {
     "name": "stderr",
     "output_type": "stream",
     "text": [
      "  6%|▌         | 527/8736 [00:27<05:02, 27.16it/s]"
     ]
    },
    {
     "name": "stdout",
     "output_type": "stream",
     "text": [
      "Epoch 3, m=528 14.229912\n"
     ]
    },
    {
     "name": "stderr",
     "output_type": "stream",
     "text": [
      "  6%|▋         | 548/8736 [00:29<05:25, 25.16it/s]"
     ]
    },
    {
     "name": "stdout",
     "output_type": "stream",
     "text": [
      "Epoch 3, m=552 11.357437\n"
     ]
    },
    {
     "name": "stderr",
     "output_type": "stream",
     "text": [
      "  7%|▋         | 573/8736 [00:30<05:18, 25.62it/s]"
     ]
    },
    {
     "name": "stdout",
     "output_type": "stream",
     "text": [
      "Epoch 3, m=576 57.212635\n"
     ]
    },
    {
     "name": "stderr",
     "output_type": "stream",
     "text": [
      "  7%|▋         | 597/8736 [00:31<04:58, 27.26it/s]"
     ]
    },
    {
     "name": "stdout",
     "output_type": "stream",
     "text": [
      "Epoch 3, m=600 29.048042\n"
     ]
    },
    {
     "name": "stderr",
     "output_type": "stream",
     "text": [
      "  7%|▋         | 622/8736 [00:33<04:51, 27.81it/s]"
     ]
    },
    {
     "name": "stdout",
     "output_type": "stream",
     "text": [
      "Epoch 3, m=624 98.651855\n"
     ]
    },
    {
     "name": "stderr",
     "output_type": "stream",
     "text": [
      "  7%|▋         | 646/8736 [00:34<04:47, 28.14it/s]"
     ]
    },
    {
     "name": "stdout",
     "output_type": "stream",
     "text": [
      "Epoch 3, m=648 152.85284\n"
     ]
    },
    {
     "name": "stderr",
     "output_type": "stream",
     "text": [
      "  8%|▊         | 670/8736 [00:35<04:53, 27.46it/s]"
     ]
    },
    {
     "name": "stdout",
     "output_type": "stream",
     "text": [
      "Epoch 3, m=672 176.97675\n"
     ]
    },
    {
     "name": "stderr",
     "output_type": "stream",
     "text": [
      "  8%|▊         | 695/8736 [00:37<04:44, 28.30it/s]"
     ]
    },
    {
     "name": "stdout",
     "output_type": "stream",
     "text": [
      "Epoch 3, m=696 179.02748\n"
     ]
    },
    {
     "name": "stderr",
     "output_type": "stream",
     "text": [
      "  8%|▊         | 717/8736 [00:38<05:01, 26.57it/s]"
     ]
    },
    {
     "name": "stdout",
     "output_type": "stream",
     "text": [
      "Epoch 3, m=720 176.6073\n"
     ]
    },
    {
     "name": "stderr",
     "output_type": "stream",
     "text": [
      "  9%|▊         | 743/8736 [00:39<04:31, 29.40it/s]"
     ]
    },
    {
     "name": "stdout",
     "output_type": "stream",
     "text": [
      "Epoch 3, m=744 162.82294\n"
     ]
    },
    {
     "name": "stderr",
     "output_type": "stream",
     "text": [
      "  9%|▉         | 765/8736 [00:40<04:56, 26.89it/s]"
     ]
    },
    {
     "name": "stdout",
     "output_type": "stream",
     "text": [
      "Epoch 3, m=768 68.06915\n"
     ]
    },
    {
     "name": "stderr",
     "output_type": "stream",
     "text": [
      "  9%|▉         | 791/8736 [00:42<04:39, 28.44it/s]"
     ]
    },
    {
     "name": "stdout",
     "output_type": "stream",
     "text": [
      "Epoch 3, m=792 128.07588\n"
     ]
    },
    {
     "name": "stderr",
     "output_type": "stream",
     "text": [
      "  9%|▉         | 816/8736 [00:43<04:38, 28.39it/s]"
     ]
    },
    {
     "name": "stdout",
     "output_type": "stream",
     "text": [
      "Epoch 3, m=816 121.73525\n"
     ]
    },
    {
     "name": "stderr",
     "output_type": "stream",
     "text": [
      " 10%|▉         | 837/8736 [00:44<05:18, 24.83it/s]"
     ]
    },
    {
     "name": "stdout",
     "output_type": "stream",
     "text": [
      "Epoch 3, m=840 129.14432\n"
     ]
    },
    {
     "name": "stderr",
     "output_type": "stream",
     "text": [
      " 10%|▉         | 863/8736 [00:45<04:28, 29.27it/s]"
     ]
    },
    {
     "name": "stdout",
     "output_type": "stream",
     "text": [
      "Epoch 3, m=864 146.98383\n"
     ]
    },
    {
     "name": "stderr",
     "output_type": "stream",
     "text": [
      " 10%|█         | 885/8736 [00:47<04:52, 26.83it/s]"
     ]
    },
    {
     "name": "stdout",
     "output_type": "stream",
     "text": [
      "Epoch 3, m=888 157.43636\n"
     ]
    },
    {
     "name": "stderr",
     "output_type": "stream",
     "text": [
      " 10%|█         | 909/8736 [00:48<04:51, 26.90it/s]"
     ]
    },
    {
     "name": "stdout",
     "output_type": "stream",
     "text": [
      "Epoch 3, m=912 124.30865\n"
     ]
    },
    {
     "name": "stderr",
     "output_type": "stream",
     "text": [
      " 11%|█         | 935/8736 [00:49<04:31, 28.70it/s]"
     ]
    },
    {
     "name": "stdout",
     "output_type": "stream",
     "text": [
      "Epoch 3, m=936 88.65631\n"
     ]
    },
    {
     "name": "stderr",
     "output_type": "stream",
     "text": [
      " 11%|█         | 959/8736 [00:51<05:01, 25.79it/s]"
     ]
    },
    {
     "name": "stdout",
     "output_type": "stream",
     "text": [
      "Epoch 3, m=960 101.14924\n"
     ]
    },
    {
     "name": "stderr",
     "output_type": "stream",
     "text": [
      " 11%|█▏        | 983/8736 [00:52<04:36, 27.99it/s]"
     ]
    },
    {
     "name": "stdout",
     "output_type": "stream",
     "text": [
      "Epoch 3, m=984 65.774345\n"
     ]
    }
   ],
   "source": [
    "device = torch.device(\"cuda\" if torch.cuda.is_available() else \"cpu\")\n",
    "model = Model(\n",
    "    hidden_channels=64,\n",
    "    num_heads_GAT=4,\n",
    "    dropout_p_GAT=0.1,\n",
    "    edge_dim_GAT=1,  # edge attributes\n",
    "    momentum_GAT=0.1,\n",
    "    dim_model=64 * 4,  # hidden_channels * num_heads_GAT\n",
    "    num_heads_TR=4,\n",
    "    num_encoder_layers_TR=6,\n",
    "    num_decoder_layers_TR=6,\n",
    "    dropout_p_TR=0.1,\n",
    "    n_edges=n_edges,\n",
    "    n_nodes=n_nodes,\n",
    ")\n",
    "train(model, snapshots[:8760], window_size=24, num_epochs=10000, lr=0.001)"
   ]
  }
 ],
 "metadata": {
  "kernelspec": {
   "display_name": "euics",
   "language": "python",
   "name": "python3"
  },
  "language_info": {
   "codemirror_mode": {
    "name": "ipython",
    "version": 3
   },
   "file_extension": ".py",
   "mimetype": "text/x-python",
   "name": "python",
   "nbconvert_exporter": "python",
   "pygments_lexer": "ipython3",
   "version": "3.11.5"
  }
 },
 "nbformat": 4,
 "nbformat_minor": 2
}
