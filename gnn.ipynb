{
 "cells": [
  {
   "cell_type": "code",
   "execution_count": 129,
   "metadata": {},
   "outputs": [],
   "source": [
    "import os\n",
    "from dataclasses import dataclass\n",
    "import pandas as pd\n",
    "import numpy as np\n",
    "from sqlalchemy import create_engine\n",
    "from config import (\n",
    "    countries,\n",
    "    dap_bidding_zones,\n",
    "    interconnections,\n",
    "    interconnections_edge_matrix,\n",
    ")\n",
    "from tqdm import tqdm\n",
    "from dotenv import load_dotenv\n",
    "\n",
    "import math\n",
    "import torch\n",
    "from torch import nn, Tensor\n",
    "import torch.nn.functional as F\n",
    "from torch_geometric.nn import GATv2Conv\n",
    "from torch_geometric.data import Data\n",
    "from torch.nn import BatchNorm1d"
   ]
  },
  {
   "cell_type": "code",
   "execution_count": 130,
   "metadata": {},
   "outputs": [],
   "source": [
    "load_dotenv()\n",
    "engine = create_engine(os.getenv(\"SQLALCHEMY_DATABASE_URI\"))"
   ]
  },
  {
   "cell_type": "code",
   "execution_count": 131,
   "metadata": {},
   "outputs": [],
   "source": [
    "flow_df = pd.read_sql_table(\"flow_32\", engine)\n",
    "flow_df = flow_df.set_index(\"DateTime\")\n",
    "flow_df.fillna(0, inplace=True)"
   ]
  },
  {
   "cell_type": "code",
   "execution_count": 132,
   "metadata": {},
   "outputs": [],
   "source": [
    "dap_df = pd.DataFrame()\n",
    "for country_id in countries.keys():\n",
    "    dap_df[country_id] = pd.read_sql_table(f\"{country_id}_dap\", engine).set_index(\n",
    "        \"DateTime\"\n",
    "    )\n",
    "dap_df.index = pd.to_datetime(dap_df.index)\n",
    "dap_df.ffill(inplace=True)\n",
    "dap_df.fillna(0, inplace=True)"
   ]
  },
  {
   "cell_type": "code",
   "execution_count": 133,
   "metadata": {},
   "outputs": [],
   "source": [
    "load_df = pd.DataFrame()\n",
    "for country_id in countries.keys():\n",
    "    load_df[country_id] = pd.read_sql_table(f\"{country_id}_load\", engine).set_index(\n",
    "        \"DateTime\"\n",
    "    )\n",
    "load_df.ffill(inplace=True)\n",
    "# Fille NaN with mean of the column\n",
    "load_df.fillna(load_df.mean(), inplace=True)"
   ]
  },
  {
   "cell_type": "code",
   "execution_count": 134,
   "metadata": {},
   "outputs": [
    {
     "name": "stdout",
     "output_type": "stream",
     "text": [
      "43729\n",
      "2015-01-04 23:00:00 2019-12-31 23:00:00\n"
     ]
    }
   ],
   "source": [
    "datetime_intersect = flow_df.index.intersection(dap_df.index).intersection(\n",
    "    load_df.index\n",
    ")\n",
    "print(len(datetime_intersect))\n",
    "print(min(datetime_intersect), max(datetime_intersect))\n",
    "# Check if datetime_intersect is monotonically increasing\n",
    "assert all(\n",
    "    datetime_intersect[i] < datetime_intersect[i + 1]\n",
    "    for i in range(len(datetime_intersect) - 1)\n",
    ")"
   ]
  },
  {
   "cell_type": "code",
   "execution_count": 135,
   "metadata": {},
   "outputs": [],
   "source": [
    "flow_df = flow_df.loc[datetime_intersect]\n",
    "dap_df = dap_df.loc[datetime_intersect]\n",
    "load_df = load_df.loc[datetime_intersect]"
   ]
  },
  {
   "cell_type": "code",
   "execution_count": 136,
   "metadata": {},
   "outputs": [
    {
     "name": "stdout",
     "output_type": "stream",
     "text": [
      "(2, 32)\n",
      "(43729, 2, 32)\n"
     ]
    }
   ],
   "source": [
    "edges = np.array(interconnections_edge_matrix)\n",
    "print(edges.shape)\n",
    "# Map edge names to indices\n",
    "edge_names = np.unique(edges)\n",
    "edge_map = {edge: i for i, edge in enumerate(edge_names)}\n",
    "edge_indices = np.array([edge_map[edge] for edge in edges.flatten()]).reshape(\n",
    "    edges.shape\n",
    ")\n",
    "# Repeat edge indices for each datetime\n",
    "edge_indices = np.repeat(\n",
    "    edge_indices[np.newaxis, :, :],\n",
    "    len(datetime_intersect),\n",
    "    axis=0,\n",
    ")\n",
    "print(edge_indices.shape)\n",
    "n_edges = edges.shape[1]"
   ]
  },
  {
   "cell_type": "code",
   "execution_count": 137,
   "metadata": {},
   "outputs": [
    {
     "name": "stdout",
     "output_type": "stream",
     "text": [
      "(43729, 32, 1)\n",
      "(43729, 32, 1)\n"
     ]
    }
   ],
   "source": [
    "# Edge labels (flow) of shape (n_datetime, n_edges, 1)\n",
    "edge_labels = np.array(flow_df)\n",
    "# print(edge_labels.shape)\n",
    "edge_labels = np.reshape(\n",
    "    edge_labels, (len(datetime_intersect), edge_labels.shape[1], 1)\n",
    ")\n",
    "print(edge_labels.shape)\n",
    "edge_attributes = np.copy(edge_labels)\n",
    "print(edge_attributes.shape)"
   ]
  },
  {
   "cell_type": "code",
   "execution_count": 138,
   "metadata": {},
   "outputs": [
    {
     "name": "stdout",
     "output_type": "stream",
     "text": [
      "(43729, 10, 2)\n"
     ]
    }
   ],
   "source": [
    "# Node features (dap, load) of shape (n_datetime, n_nodes, n_node_features)\n",
    "node_features = np.stack([dap_df.to_numpy(), load_df.to_numpy()], axis=-1)\n",
    "print(node_features.shape)\n",
    "# print(node_features[0, 0, :])\n",
    "# print(node_features)"
   ]
  },
  {
   "cell_type": "code",
   "execution_count": 139,
   "metadata": {},
   "outputs": [],
   "source": [
    "assert (\n",
    "    len(datetime_intersect)\n",
    "    == edge_indices.shape[0]\n",
    "    == edge_labels.shape[0]\n",
    "    == edge_attributes.shape[0]\n",
    "    == node_features.shape[0]\n",
    ")"
   ]
  },
  {
   "cell_type": "code",
   "execution_count": 140,
   "metadata": {},
   "outputs": [
    {
     "name": "stdout",
     "output_type": "stream",
     "text": [
      "2015-01-04 23:00:00\n",
      "[[0 0 0 0 3 3 3 4 4 4 4 2 2 2 2 2 5 6 6 7 7 7 7 7 8 8 1 1 9 9 9 9]\n",
      " [4 6 7 9 2 7 8 0 2 1 9 3 4 6 7 1 9 0 2 0 3 2 8 9 3 7 4 2 0 4 5 7]]\n",
      "[[   0.  ]\n",
      " [   0.  ]\n",
      " [   0.  ]\n",
      " [   0.  ]\n",
      " [   0.  ]\n",
      " [   0.  ]\n",
      " [1315.79]\n",
      " [  52.  ]\n",
      " [ 617.  ]\n",
      " [ 279.  ]\n",
      " [1433.  ]\n",
      " [   0.  ]\n",
      " [   0.  ]\n",
      " [   0.  ]\n",
      " [3205.  ]\n",
      " [   0.  ]\n",
      " [   0.  ]\n",
      " [   0.  ]\n",
      " [   0.  ]\n",
      " [2106.86]\n",
      " [   0.  ]\n",
      " [   0.  ]\n",
      " [   0.  ]\n",
      " [ 964.  ]\n",
      " [   0.  ]\n",
      " [ 704.  ]\n",
      " [   0.  ]\n",
      " [   0.  ]\n",
      " [   0.  ]\n",
      " [   0.  ]\n",
      " [ 169.19]\n",
      " [   0.  ]]\n",
      "[[   0.  ]\n",
      " [   0.  ]\n",
      " [   0.  ]\n",
      " [   0.  ]\n",
      " [   0.  ]\n",
      " [   0.  ]\n",
      " [1315.79]\n",
      " [  52.  ]\n",
      " [ 617.  ]\n",
      " [ 279.  ]\n",
      " [1433.  ]\n",
      " [   0.  ]\n",
      " [   0.  ]\n",
      " [   0.  ]\n",
      " [3205.  ]\n",
      " [   0.  ]\n",
      " [   0.  ]\n",
      " [   0.  ]\n",
      " [   0.  ]\n",
      " [2106.86]\n",
      " [   0.  ]\n",
      " [   0.  ]\n",
      " [   0.  ]\n",
      " [ 964.  ]\n",
      " [   0.  ]\n",
      " [ 704.  ]\n",
      " [   0.  ]\n",
      " [   0.  ]\n",
      " [   0.  ]\n",
      " [   0.  ]\n",
      " [ 169.19]\n",
      " [   0.  ]]\n",
      "[[3.65600000e+01 1.00395300e+04]\n",
      " [2.86250000e+01 3.19045000e+03]\n",
      " [3.65600000e+01 6.26100000e+04]\n",
      " [2.23400000e+01 4.66678700e+04]\n",
      " [4.91400000e+01 2.90401500e+03]\n",
      " [2.23400000e+01 4.37000000e+02]\n",
      " [3.65600000e+01 1.14760075e+04]\n",
      " [2.85380000e+01 1.67024600e+04]\n",
      " [3.78000000e+01 7.01962000e+03]\n",
      " [4.28600000e+01 2.88430000e+04]]\n"
     ]
    }
   ],
   "source": [
    "# Print a snapshot of the graph data\n",
    "idx = 0\n",
    "print(datetime_intersect[idx])\n",
    "print(edge_indices[idx])\n",
    "print(edge_labels[idx])\n",
    "print(edge_attributes[idx])\n",
    "print(node_features[idx])"
   ]
  },
  {
   "cell_type": "code",
   "execution_count": 141,
   "metadata": {},
   "outputs": [],
   "source": [
    "# https://pytorch-geometric.readthedocs.io/en/latest/generated/torch_geometric.nn.conv.GATv2Conv.html\n",
    "class GNNEncoder(nn.Module):\n",
    "    def __init__(\n",
    "        self, hidden_channels, num_heads_GAT, dropout_p_GAT, edge_dim_GAT, momentum_GAT\n",
    "    ):\n",
    "        super().__init__()\n",
    "        self.gat = GATv2Conv(\n",
    "            (-1, -1),\n",
    "            hidden_channels,\n",
    "            add_self_loops=False,\n",
    "            heads=num_heads_GAT,\n",
    "            edge_dim=edge_dim_GAT,\n",
    "        )\n",
    "        self.norm = BatchNorm1d(\n",
    "            hidden_channels,\n",
    "            momentum=momentum_GAT,\n",
    "            affine=False,\n",
    "            track_running_stats=False,\n",
    "        )\n",
    "        self.dropout = nn.Dropout(dropout_p_GAT)\n",
    "\n",
    "    def forward(self, x, edge_indices, edge_attrs):\n",
    "        x = self.dropout(x)\n",
    "        x = self.norm(x)\n",
    "        nodes_embedds = self.gat(x, edge_indices, edge_attrs)\n",
    "        nodes_embedds = F.leaky_relu(nodes_embedds, negative_slope=0.1)\n",
    "        return nodes_embedds"
   ]
  },
  {
   "cell_type": "code",
   "execution_count": 142,
   "metadata": {},
   "outputs": [],
   "source": [
    "class PositionalEncoding(nn.Module):\n",
    "    def __init__(self, d_model: int, dropout: float = 0.1, max_len: int = 5000):\n",
    "        super().__init__()\n",
    "        self.dropout = nn.Dropout(p=dropout)\n",
    "\n",
    "        position = torch.arange(max_len).unsqueeze(1)\n",
    "        div_term = torch.exp(\n",
    "            torch.arange(0, d_model, 2) * (-math.log(10000.0) / d_model)\n",
    "        )\n",
    "        pe = torch.zeros(max_len, 1, d_model)\n",
    "        pe[:, 0, 0::2] = torch.sin(position * div_term)\n",
    "        pe[:, 0, 1::2] = torch.cos(position * div_term)\n",
    "        self.register_buffer(\"pe\", pe)\n",
    "\n",
    "    def forward(self, x: Tensor) -> Tensor:\n",
    "        x = x + self.pe[: x.size(0)]\n",
    "        return self.dropout(x)"
   ]
  },
  {
   "cell_type": "code",
   "execution_count": 143,
   "metadata": {},
   "outputs": [],
   "source": [
    "class Transformer(nn.Module):\n",
    "    def __init__(\n",
    "        self,\n",
    "        dim_model,\n",
    "        num_heads_TR,\n",
    "        num_encoder_layers_TR,\n",
    "        num_decoder_layers_TR,\n",
    "        dropout_p_TR,\n",
    "    ):\n",
    "        super().__init__()\n",
    "        self.pos_encoder = PositionalEncoding(dim_model)\n",
    "        self.transformer = nn.Transformer(\n",
    "            d_model=dim_model,\n",
    "            nhead=num_heads_TR,\n",
    "            num_decoder_layers=num_encoder_layers_TR,\n",
    "            num_encoder_layers=num_decoder_layers_TR,\n",
    "            dropout=dropout_p_TR,\n",
    "        )\n",
    "\n",
    "    def forward(self, src, trg):\n",
    "        src = self.pos_encoder(src)\n",
    "        trg = self.pos_encoder(trg)\n",
    "        temporal_node_embeddings = self.transformer(src, trg)\n",
    "        return temporal_node_embeddings"
   ]
  },
  {
   "cell_type": "code",
   "execution_count": 144,
   "metadata": {},
   "outputs": [],
   "source": [
    "class EdgeDecoder(nn.Module):\n",
    "    def __init__(self, hidden_channels, num_heads_GAT, num_edges, num_nodes):\n",
    "        super().__init__()\n",
    "        self.lin1 = nn.Linear(\n",
    "            num_nodes * hidden_channels * num_heads_GAT, hidden_channels\n",
    "        )\n",
    "        self.lin2 = nn.Linear(hidden_channels, num_edges)\n",
    "\n",
    "    def forward(self, x):\n",
    "        # Flatten the tensor\n",
    "        x = torch.flatten(x)\n",
    "        x = self.lin1(x)\n",
    "        x = F.leaky_relu(x, negative_slope=0.1)\n",
    "        x = self.lin2(x)\n",
    "        return x.view(-1)"
   ]
  },
  {
   "cell_type": "code",
   "execution_count": 145,
   "metadata": {},
   "outputs": [],
   "source": [
    "class Model(nn.Module):\n",
    "    def __init__(\n",
    "        self,\n",
    "        hidden_channels,\n",
    "        num_heads_GAT,\n",
    "        dropout_p_GAT,\n",
    "        edge_dim_GAT,\n",
    "        momentum_GAT,\n",
    "        dim_model,\n",
    "        num_heads_TR,\n",
    "        num_encoder_layers_TR,\n",
    "        num_decoder_layers_TR,\n",
    "        dropout_p_TR,\n",
    "        n_edges,\n",
    "        n_nodes,\n",
    "    ):\n",
    "        super().__init__()\n",
    "        self.encoder = GNNEncoder(\n",
    "            hidden_channels, num_heads_GAT, dropout_p_GAT, edge_dim_GAT, momentum_GAT\n",
    "        )  # node embedding with GAT\n",
    "        self.transformer = Transformer(\n",
    "            dim_model,\n",
    "            num_heads_TR,\n",
    "            num_encoder_layers_TR,\n",
    "            num_decoder_layers_TR,\n",
    "            dropout_p_TR,\n",
    "        )\n",
    "        self.decoder = EdgeDecoder(hidden_channels, num_heads_GAT, n_edges, n_nodes)\n",
    "\n",
    "    def forward(self, x, edge_indices, edge_attrs):\n",
    "        src_embedds = []\n",
    "        for i in range(x.shape[0]):\n",
    "            src_embedds.append(self.encoder(x[i], edge_indices[i], edge_attrs[i]))\n",
    "        src_embedds = torch.stack(src_embedds)\n",
    "        trg_embedds = src_embedds[-1].unsqueeze(0)\n",
    "        temporal_node_embedds = self.transformer(src_embedds, trg_embedds)\n",
    "        temporal_node_embedds = temporal_node_embedds.squeeze(0)\n",
    "        edge_predictions = self.decoder(temporal_node_embedds)\n",
    "        return edge_predictions"
   ]
  },
  {
   "cell_type": "code",
   "execution_count": 146,
   "metadata": {},
   "outputs": [
    {
     "name": "stderr",
     "output_type": "stream",
     "text": [
      "c:\\Users\\lemuelkl\\anaconda3\\envs\\euics\\Lib\\site-packages\\torch\\nn\\modules\\transformer.py:282: UserWarning: enable_nested_tensor is True, but self.use_nested_tensor is False because encoder_layer.self_attn.batch_first was not True(use batch_first for better inference performance)\n",
      "  warnings.warn(f\"enable_nested_tensor is True, but self.use_nested_tensor is False because {why_not_sparsity_fast_path}\")\n"
     ]
    }
   ],
   "source": [
    "device = torch.device(\"cuda\" if torch.cuda.is_available() else \"cpu\")\n",
    "model = Model(\n",
    "    hidden_channels=32,\n",
    "    num_heads_GAT=2,\n",
    "    dropout_p_GAT=0.1,\n",
    "    edge_dim_GAT=1,  # edge attributes\n",
    "    momentum_GAT=0.1,\n",
    "    dim_model=32 * 2,  # hidden_channels * num_heads_GAT\n",
    "    num_heads_TR=2,\n",
    "    num_encoder_layers_TR=2,\n",
    "    num_decoder_layers_TR=2,\n",
    "    dropout_p_TR=0.1,\n",
    "    n_edges=n_edges,\n",
    "    n_nodes=n_nodes,\n",
    ")"
   ]
  },
  {
   "cell_type": "code",
   "execution_count": 147,
   "metadata": {},
   "outputs": [],
   "source": [
    "def train(model, data, window_size, num_epochs, lr):\n",
    "    model = model.to(device)\n",
    "    data = [d.to(device) for d in data]\n",
    "    model.train()\n",
    "    optimizer = torch.optim.Adam(model.parameters(), lr=lr)\n",
    "    criterion = nn.MSELoss()\n",
    "    for epoch in range(num_epochs):\n",
    "        # for m in tqdm(range(len(data) - window_size)):\n",
    "        loss_sum = None\n",
    "        for m in range(len(data) - window_size):\n",
    "            optimizer.zero_grad()\n",
    "            x = torch.stack([data[m + i].x for i in range(window_size)])\n",
    "            edge_indices = torch.stack(\n",
    "                [data[m + i].edge_index for i in range(window_size)]\n",
    "            )\n",
    "            edge_attrs = torch.stack(\n",
    "                [data[m + i].edge_attr for i in range(window_size)]\n",
    "            )\n",
    "            y = data[m + window_size].y\n",
    "            y_pred = model(x, edge_indices, edge_attrs)\n",
    "            y_pred = y_pred.view((-1, 1))\n",
    "            loss = criterion(y_pred, y)\n",
    "            # print(f\"Epoch {epoch}, Loss {loss.item()}\")\n",
    "            if loss_sum is None:\n",
    "                loss_sum = loss\n",
    "            else:\n",
    "                loss_sum += loss\n",
    "            if m % 24 * 7 == 0 or m == len(data) - window_size - 1:\n",
    "                diff = y.squeeze() - y_pred\n",
    "                diff = diff.detach().cpu().numpy()\n",
    "                print(f\"Epoch {epoch}, m={m}\", diff.mean())\n",
    "                loss_sum.backward()\n",
    "                optimizer.step()\n",
    "                optimizer.zero_grad()\n",
    "                loss_sum = None\n",
    "\n",
    "    return model"
   ]
  },
  {
   "cell_type": "code",
   "execution_count": 148,
   "metadata": {},
   "outputs": [
    {
     "name": "stdout",
     "output_type": "stream",
     "text": [
      "43729\n"
     ]
    }
   ],
   "source": [
    "snapshots = []\n",
    "for i in range(len(datetime_intersect)):\n",
    "    x = torch.tensor(node_features[i], dtype=torch.float)\n",
    "    edge_index = torch.tensor(edge_indices[i], dtype=torch.long)\n",
    "    edge_attr = torch.tensor(edge_attributes[i], dtype=torch.float)\n",
    "    y = torch.tensor(edge_labels[i], dtype=torch.float)\n",
    "    data = Data(x=x, edge_index=edge_index, edge_attr=edge_attr, y=y)\n",
    "    snapshots.append(data)\n",
    "print(len(snapshots))"
   ]
  },
  {
   "cell_type": "code",
   "execution_count": 149,
   "metadata": {},
   "outputs": [
    {
     "name": "stdout",
     "output_type": "stream",
     "text": [
      "Epoch 0, m=0 455.27887\n",
      "Epoch 0, m=24 445.82825\n",
      "Epoch 0, m=48 409.6192\n",
      "Epoch 0, m=72 359.86465\n",
      "Epoch 0, m=96 420.0265\n",
      "Epoch 0, m=120 447.0218\n",
      "Epoch 0, m=144 421.6807\n",
      "Epoch 0, m=168 400.7093\n"
     ]
    }
   ],
   "source": [
    "train(model, snapshots, window_size=24 * 4, num_epochs=100, lr=1e-9)"
   ]
  }
 ],
 "metadata": {
  "kernelspec": {
   "display_name": "euics",
   "language": "python",
   "name": "python3"
  },
  "language_info": {
   "codemirror_mode": {
    "name": "ipython",
    "version": 3
   },
   "file_extension": ".py",
   "mimetype": "text/x-python",
   "name": "python",
   "nbconvert_exporter": "python",
   "pygments_lexer": "ipython3",
   "version": "3.11.5"
  }
 },
 "nbformat": 4,
 "nbformat_minor": 2
}
